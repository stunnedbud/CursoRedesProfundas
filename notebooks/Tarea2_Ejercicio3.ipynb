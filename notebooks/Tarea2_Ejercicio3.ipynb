{
  "cells": [
    {
      "cell_type": "markdown",
      "metadata": {
        "id": "U4yo6VHyGuCr"
      },
      "source": [
        "\n",
        "# Tarea 2 Ejercicio 3\n",
        "#### Basada en el notebook:\n",
        "## Reconocimiento de acciones humanas usando RNNs \n",
        "\n",
        "Curso: [Aprendizaje Profundo](http://turing.iimas.unam.mx/~gibranfp/cursos/aprendizaje_profundo/). Profesor: [Gibran Fuentes Pineda](http://turing.iimas.unam.mx/~gibranfp/). Ayudantes: [Bere](https://turing.iimas.unam.mx/~bereml/) y [Ricardo](https://turing.iimas.unam.mx/~ricardoml/).\n",
        "\n",
        "\n",
        "---\n",
        "---\n",
        "\n",
        "En esta libreta compararemos el desempeño de dos modelos para reconocimiento de acciones humanas (HAR) en el conjunto [UCF11](https://www.crcv.ucf.edu/data/UCF_YouTube_Action.php).\n",
        "\n",
        "<img src=\"https://www.crcv.ucf.edu/data/youtube_snaps.jpg\" width=800/>\n",
        "\n",
        "El primer modelo está basado en las ideas presentadas en [*Long-term Recurrent Convolutional Networks for Visual Recognition and Description*](https://arxiv.org/abs/1411.4389) de 2016 por Donahue et al. "
      ]
    },
    {
      "cell_type": "markdown",
      "metadata": {
        "id": "N-SPalh9GuCw"
      },
      "source": [
        "## 1 Preparación"
      ]
    },
    {
      "cell_type": "markdown",
      "metadata": {
        "id": "0vqPc2aMGuCy"
      },
      "source": [
        "### 1.1 Bibliotecas"
      ]
    },
    {
      "cell_type": "code",
      "execution_count": 2,
      "metadata": {
        "colab": {
          "base_uri": "https://localhost:8080/"
        },
        "id": "ktRo964jGuC0",
        "outputId": "54d05afc-483f-4338-d910-6bed3dfe8252"
      },
      "outputs": [
        {
          "output_type": "stream",
          "name": "stdout",
          "text": [
            "Looking in indexes: https://pypi.org/simple, https://us-python.pkg.dev/colab-wheels/public/simple/\n",
            "Collecting torchinfo\n",
            "  Downloading torchinfo-1.7.1-py3-none-any.whl (22 kB)\n",
            "Installing collected packages: torchinfo\n",
            "Successfully installed torchinfo-1.7.1\n",
            "Looking in indexes: https://pypi.org/simple, https://us-python.pkg.dev/colab-wheels/public/simple/\n",
            "Collecting zarr\n",
            "  Downloading zarr-2.12.0-py3-none-any.whl (185 kB)\n",
            "\u001b[K     |████████████████████████████████| 185 kB 7.0 MB/s \n",
            "\u001b[?25hCollecting fasteners\n",
            "  Downloading fasteners-0.18-py3-none-any.whl (18 kB)\n",
            "Collecting numcodecs>=0.6.4\n",
            "  Downloading numcodecs-0.10.2-cp37-cp37m-manylinux_2_17_x86_64.manylinux2014_x86_64.whl (6.6 MB)\n",
            "\u001b[K     |████████████████████████████████| 6.6 MB 31.3 MB/s \n",
            "\u001b[?25hRequirement already satisfied: numpy>=1.7 in /usr/local/lib/python3.7/dist-packages (from zarr) (1.21.6)\n",
            "Collecting asciitree\n",
            "  Downloading asciitree-0.3.3.tar.gz (4.0 kB)\n",
            "Requirement already satisfied: typing-extensions>=3.7.4 in /usr/local/lib/python3.7/dist-packages (from numcodecs>=0.6.4->zarr) (4.1.1)\n",
            "Requirement already satisfied: entrypoints in /usr/local/lib/python3.7/dist-packages (from numcodecs>=0.6.4->zarr) (0.4)\n",
            "Building wheels for collected packages: asciitree\n",
            "  Building wheel for asciitree (setup.py) ... \u001b[?25l\u001b[?25hdone\n",
            "  Created wheel for asciitree: filename=asciitree-0.3.3-py3-none-any.whl size=5050 sha256=e0aae029c01638e968efd64796554e4a5560f0966dce703fc14083c9dcf2d6bb\n",
            "  Stored in directory: /root/.cache/pip/wheels/12/1c/38/0def51e15add93bff3f4bf9c248b94db0839b980b8535e72a0\n",
            "Successfully built asciitree\n",
            "Installing collected packages: numcodecs, fasteners, asciitree, zarr\n",
            "Successfully installed asciitree-0.3.3 fasteners-0.18 numcodecs-0.10.2 zarr-2.12.0\n"
          ]
        }
      ],
      "source": [
        "# Colab\n",
        "# https://github.com/TylerYep/torchinfo\n",
        "!pip install torchinfo\n",
        "# https://zarr.readthedocs.io/en/stable/\n",
        "!pip install zarr"
      ]
    },
    {
      "cell_type": "code",
      "execution_count": 24,
      "metadata": {
        "id": "Ny0L2LzogTN-"
      },
      "outputs": [],
      "source": [
        "# sistema de archivos\n",
        "import os\n",
        "# funciones aleatorias\n",
        "import random\n",
        "# descomprimir\n",
        "import tarfile\n",
        "# sistema de archivos\n",
        "from os.path import join\n",
        "\n",
        "# arreglos multidimensionales\n",
        "import numpy as np\n",
        "# redes neuronales\n",
        "import torch\n",
        "import torch.nn as nn\n",
        "import torch.nn.functional as F\n",
        "import torch.optim as optim\n",
        "import torchvision.datasets.utils as tvu\n",
        "# almacenamiento de arreglos multidimensionales\n",
        "import zarr\n",
        "#redes\n",
        "from torch.utils.data import DataLoader, random_split\n",
        "# inspección de arquitectura\n",
        "from torchinfo import summary\n",
        "# gráficas\n",
        "import matplotlib.pyplot as plt\n",
        "\n",
        "# directorio de datos\n",
        "DATA_DIR = '../data'\n",
        "\n",
        "# tamaño del lote\n",
        "BATCH_SIZE = 32\n",
        "# tamaño del vector de características\n",
        "FEAT_SIZE = 1024\n",
        "\n",
        "# reproducibilidad\n",
        "SEED = 0\n",
        "random.seed(SEED)\n",
        "np.random.seed(SEED)\n",
        "torch_gen = torch.manual_seed(SEED)"
      ]
    },
    {
      "cell_type": "markdown",
      "metadata": {
        "id": "Fjc2IqcdGuC8"
      },
      "source": [
        "## 2 Datos"
      ]
    },
    {
      "cell_type": "markdown",
      "metadata": {
        "id": "voIM4qyoGuC-"
      },
      "source": [
        "### 2.1 Conjunto de datos"
      ]
    },
    {
      "cell_type": "code",
      "execution_count": 4,
      "metadata": {
        "id": "NiwBcYZsGuC_"
      },
      "outputs": [],
      "source": [
        "class UCF11:\n",
        "\n",
        "    def __init__(self, root, download=False):\n",
        "        self.root = root\n",
        "        self.zarr_dir = join(root, 'ucf11.zarr')\n",
        "        if download:\n",
        "            self.download()\n",
        "        self.z = zarr.open(self.zarr_dir, 'r')\n",
        "        self.paths = list(self.z.array_keys())\n",
        "        \n",
        "    def __getitem__(self, i):\n",
        "        arr = self.z[self.paths[i]]\n",
        "        x = np.array(arr)\n",
        "        y = np.array(arr.attrs['y'], dtype=np.int64)\n",
        "        return x, y\n",
        "\n",
        "    def __len__(self):\n",
        "        return len(self.paths)\n",
        "    \n",
        "    def _check_integrity(self):\n",
        "        return os.path.isdir(self.zarr_dir)\n",
        "    \n",
        "    def _extract(self, root, filename):\n",
        "        tar = tarfile.open(join(root, filename), \"r:gz\")\n",
        "        tar.extractall(root)\n",
        "        tar.close()\n",
        "\n",
        "    def download(self):\n",
        "        if self._check_integrity():\n",
        "            print('Files already downloaded and verified')\n",
        "            return\n",
        "        tvu.download_url(\n",
        "            url='https://cloud.xibalba.com.mx/s/apYrNA4iM4K65o7/download',\n",
        "            root=self.root,\n",
        "            filename='ucf11.zarr.tar.gz',\n",
        "            md5='c8a82454f9ec092d00bcd99c849e03fd'\n",
        "        )\n",
        "        self._extract(self.root, 'ucf11.zarr.tar.gz')"
      ]
    },
    {
      "cell_type": "markdown",
      "metadata": {
        "id": "BjZwCpWsGuDD"
      },
      "source": [
        "### 2.2 Instancia del conjunto y partición"
      ]
    },
    {
      "cell_type": "code",
      "execution_count": 5,
      "metadata": {
        "colab": {
          "base_uri": "https://localhost:8080/",
          "height": 136,
          "referenced_widgets": [
            "dbd81577a0374190b8c1c9933a8de495",
            "20b3de23854a4f25becc7fccf5efab85",
            "7b2440bbbbf2434fb5145297dbe0fe30",
            "eab7bba2d83648f1b35d6222593ce959",
            "2a77af747bde43b98185f54e8d57bbc9",
            "12a724929ab64ff8bb6f891345f67d03",
            "bf329ef929a24fddb239cb96a55ad620",
            "c069c645e7ec45cea6e3e8679de68d1a",
            "942f04a8692c49f398fbf21755963fba",
            "4cca14ab001046fa899493bb786a1d07",
            "fde66b02e92248f880d8a49e31adf5f4"
          ]
        },
        "id": "ePj5FyJ6GuDE",
        "outputId": "c336804c-71de-41d8-e43c-de8b3af5c215"
      },
      "outputs": [
        {
          "output_type": "stream",
          "name": "stdout",
          "text": [
            "Downloading https://cloud.xibalba.com.mx/s/apYrNA4iM4K65o7/download to ../data/ucf11/ucf11.zarr.tar.gz\n"
          ]
        },
        {
          "output_type": "display_data",
          "data": {
            "text/plain": [
              "  0%|          | 0/53436566 [00:00<?, ?it/s]"
            ],
            "application/vnd.jupyter.widget-view+json": {
              "version_major": 2,
              "version_minor": 0,
              "model_id": "dbd81577a0374190b8c1c9933a8de495"
            }
          },
          "metadata": {}
        },
        {
          "output_type": "stream",
          "name": "stdout",
          "text": [
            "x shape=(10, 1024) dtype=float32\n",
            "x [0][:5]=[0.00022111 0.00368518 0.00314753 0.00201778 0.09296297]\n",
            "y shape=() dtype=int64 0\n",
            "y 0\n"
          ]
        }
      ],
      "source": [
        "ds = UCF11(join(DATA_DIR, 'ucf11'), True)\n",
        "x, y = ds[0]\n",
        "print(f'x shape={x.shape} dtype={x.dtype}')\n",
        "print(f'x [0][:5]={x[0][:5]}')\n",
        "print(f'y shape={y.shape} dtype={y.dtype} {y}')\n",
        "print(f'y {y}')"
      ]
    },
    {
      "cell_type": "code",
      "execution_count": 6,
      "metadata": {
        "colab": {
          "base_uri": "https://localhost:8080/"
        },
        "id": "PODTl1X1GuDG",
        "outputId": "a0265767-217e-4743-e50f-497b8254cb03"
      },
      "outputs": [
        {
          "output_type": "execute_result",
          "data": {
            "text/plain": [
              "(1279, 320)"
            ]
          },
          "metadata": {},
          "execution_count": 6
        }
      ],
      "source": [
        "trn_size = int(0.8 * len(ds))\n",
        "tst_size = len(ds) - trn_size\n",
        "trn_ds, tst_ds = random_split(ds, [trn_size, tst_size])\n",
        "len(trn_ds), len(tst_ds)"
      ]
    },
    {
      "cell_type": "markdown",
      "metadata": {
        "id": "tMnvaS4tGuDH"
      },
      "source": [
        "### 2.3 Cargadores de datos"
      ]
    },
    {
      "cell_type": "code",
      "execution_count": 7,
      "metadata": {
        "id": "Ie6S-UiqGuDH"
      },
      "outputs": [],
      "source": [
        "trn_dl = DataLoader(\n",
        "    # conjunto\n",
        "    trn_ds,\n",
        "    # tamaño del lote\n",
        "    batch_size=BATCH_SIZE,\n",
        "    # desordenar\n",
        "    shuffle=True,\n",
        "    # procesos paralelos\n",
        "    num_workers=2\n",
        ")\n",
        "tst_dl = DataLoader(\n",
        "    # conjunto\n",
        "    tst_ds,\n",
        "    # tamaño del lote\n",
        "    batch_size=BATCH_SIZE,\n",
        "    # desordenar\n",
        "    shuffle=True,\n",
        "    # procesos paralelos\n",
        "    num_workers=2\n",
        ")"
      ]
    },
    {
      "cell_type": "code",
      "execution_count": 8,
      "metadata": {
        "colab": {
          "base_uri": "https://localhost:8080/"
        },
        "id": "Jap2iV8EGuDI",
        "outputId": "354b04df-a2bf-46e4-fa4a-dbaf64dd0393"
      },
      "outputs": [
        {
          "output_type": "stream",
          "name": "stdout",
          "text": [
            "x shape=torch.Size([32, 10, 1024]) dtype=torch.float32\n",
            "y shape=torch.Size([32]) dtype=torch.int64\n"
          ]
        }
      ],
      "source": [
        "x, y = next(iter(trn_dl))\n",
        "print(f'x shape={x.shape} dtype={x.dtype}')\n",
        "print(f'y shape={y.shape} dtype={y.dtype}')"
      ]
    },
    {
      "cell_type": "markdown",
      "metadata": {
        "id": "WrwnoAuOGuDJ"
      },
      "source": [
        "## 3 Modelo\n",
        "\n",
        "<!-- Torchvision provee una familia de [modelos](https://pytorch.org/docs/1.6.0/torchvision/models.html#classification) preentrenados en ImageNet. Usaremos [Shufflenet V2](https://arxiv.org/abs/1807.11164), una arquitectura eficiente para clasificación de imágenes.  -->"
      ]
    },
    {
      "cell_type": "markdown",
      "metadata": {
        "id": "G5b9ET_QGuDK"
      },
      "source": [
        "### 3.1 Definición de arquitecturas\n",
        "\n",
        "El primer modelo es una RNN bidireccional con una capa GRU, y el segundo una arquitectura CNN con una capa Conv1d."
      ]
    },
    {
      "cell_type": "code",
      "execution_count": 34,
      "metadata": {
        "id": "mdVhghraGuDL"
      },
      "outputs": [],
      "source": [
        "class RNN(nn.Module):\n",
        "\n",
        "    def __init__(self, input_size=1024, hidden_size=128, num_classes=11):\n",
        "        super().__init__()\n",
        "        self.bn = nn.BatchNorm1d(input_size)\n",
        "        self.rnn = nn.GRU(input_size=input_size, hidden_size=hidden_size,\n",
        "                          num_layers=1, batch_first=True)\n",
        "        self.cls = nn.Linear(hidden_size, num_classes)\n",
        "\n",
        "    def forward(self, x):\n",
        "        # Batch, Seq, Feats, Hidden\n",
        "        # [B, S, F] => [B, F, S]\n",
        "        x = x.movedim(1, 2)\n",
        "        # [B, F, S]\n",
        "        x = self.bn(x)\n",
        "        # [B, F, S] => [B, S, F]\n",
        "        x = x.movedim(1, 2)\n",
        "        # [B, S, F] => [B, S, H]\n",
        "        x, _ = self.rnn(x)\n",
        "        # [B, S, H] => [B, H]\n",
        "        x = x[:, -1, :]\n",
        "        # [B, H] = [B, 11]\n",
        "        x = self.cls(x)\n",
        "        return x\n",
        "\n",
        "\n",
        "\n",
        "class CNN(nn.Module):\n",
        "    # input_size=1024, hidden_size=128, num_classes=11\n",
        "    def __init__(self):\n",
        "        # inicilización del objeto padre, obligatorio\n",
        "        super(CNN, self).__init__()\n",
        "        self.num_feats = 128\n",
        "        \n",
        "        # definición de bloques conv\n",
        "        # [N, 10, 1024] => [N, 4, 14, 14]\n",
        "        self.cnn = nn.Sequential(\n",
        "            # bloque conv1\n",
        "            # [N, 1, 10, 1024] => [N, 1, 4, 512]\n",
        "            nn.Conv1d(in_channels=10, out_channels=4, kernel_size=2, stride=2, padding=1),\n",
        "            # [N, 1, 4, 512]\n",
        "            nn.ReLU(),\n",
        "            # [N, 1, 4, 512] => [N, 1, 4, 32]\n",
        "            nn.MaxPool2d(kernel_size=4, stride=4),\n",
        "        )\n",
        "        \n",
        "        # [N, 1, 4, 32] => [N, 1x4x32=128]\n",
        "        self.flatten = nn.Flatten()\n",
        "\n",
        "        # [N, 128] => [N, 1]\n",
        "        self.cls = nn.Linear(self.num_feats, 11)\n",
        "    \n",
        "    # metodo para inferencia\n",
        "    def forward(self, x):\n",
        "        #print(x.shape)\n",
        "        x = self.cnn(x)\n",
        "        #print(x.shape)\n",
        "        x = self.flatten(x)\n",
        "        x = self.cls(x)\n",
        "        return x\n",
        "  "
      ]
    },
    {
      "cell_type": "code",
      "execution_count": 17,
      "metadata": {
        "colab": {
          "base_uri": "https://localhost:8080/"
        },
        "id": "2Xj2-TVMGuDL",
        "outputId": "9ef16b25-16a4-4422-e7bf-6d83812031c4"
      },
      "outputs": [
        {
          "output_type": "stream",
          "name": "stdout",
          "text": [
            "model 1 logits\n",
            "torch.Size([1, 11])\n",
            "model 2 logits\n"
          ]
        },
        {
          "output_type": "execute_result",
          "data": {
            "text/plain": [
              "torch.Size([1, 11])"
            ]
          },
          "metadata": {},
          "execution_count": 17
        }
      ],
      "source": [
        "model1 = RNN().eval()\n",
        "print(\"model 1 logits\")\n",
        "print(model1(torch.zeros(1, 10, 1024)).shape)\n",
        "print(\"model 2 logits\")\n",
        "model2 = CNN().eval()\n",
        "model2(torch.zeros(1, 10, 1024)).shape"
      ]
    },
    {
      "cell_type": "markdown",
      "metadata": {
        "id": "9hLniSTdGuDL"
      },
      "source": [
        "### 3.2 Inspección de arquitecturas"
      ]
    },
    {
      "cell_type": "code",
      "execution_count": 32,
      "metadata": {
        "colab": {
          "base_uri": "https://localhost:8080/"
        },
        "id": "7KC8WQxEGuDM",
        "outputId": "f166fa24-9b0f-495b-a8c6-b6fe51a2f4ab"
      },
      "outputs": [
        {
          "output_type": "execute_result",
          "data": {
            "text/plain": [
              "==========================================================================================\n",
              "Layer (type:depth-idx)                   Output Shape              Param #\n",
              "==========================================================================================\n",
              "RNN                                      [1, 11]                   --\n",
              "├─BatchNorm1d: 1-1                       [1, 1024, 10]             2,048\n",
              "├─GRU: 1-2                               [1, 10, 128]              443,136\n",
              "├─Linear: 1-3                            [1, 11]                   1,419\n",
              "==========================================================================================\n",
              "Total params: 446,603\n",
              "Trainable params: 446,603\n",
              "Non-trainable params: 0\n",
              "Total mult-adds (M): 4.43\n",
              "==========================================================================================\n",
              "Input size (MB): 0.04\n",
              "Forward/backward pass size (MB): 0.09\n",
              "Params size (MB): 1.79\n",
              "Estimated Total Size (MB): 1.92\n",
              "=========================================================================================="
            ]
          },
          "metadata": {},
          "execution_count": 32
        }
      ],
      "source": [
        "summary(model1, (1, 10, 1024), device='cpu', verbose=0)"
      ]
    },
    {
      "cell_type": "code",
      "execution_count": 35,
      "metadata": {
        "colab": {
          "base_uri": "https://localhost:8080/"
        },
        "outputId": "1bf3748b-6713-4d6f-f905-ba2fdbe1b2f4",
        "id": "meTa8rjbFtEV"
      },
      "outputs": [
        {
          "output_type": "execute_result",
          "data": {
            "text/plain": [
              "==========================================================================================\n",
              "Layer (type:depth-idx)                   Output Shape              Param #\n",
              "==========================================================================================\n",
              "CNN                                      [1, 11]                   --\n",
              "├─Sequential: 1-1                        [1, 1, 128]               --\n",
              "│    └─Conv1d: 2-1                       [1, 4, 513]               84\n",
              "│    └─ReLU: 2-2                         [1, 4, 513]               --\n",
              "│    └─MaxPool2d: 2-3                    [1, 1, 128]               --\n",
              "├─Flatten: 1-2                           [1, 128]                  --\n",
              "├─Linear: 1-3                            [1, 11]                   1,419\n",
              "==========================================================================================\n",
              "Total params: 1,503\n",
              "Trainable params: 1,503\n",
              "Non-trainable params: 0\n",
              "Total mult-adds (M): 0.04\n",
              "==========================================================================================\n",
              "Input size (MB): 0.04\n",
              "Forward/backward pass size (MB): 0.02\n",
              "Params size (MB): 0.01\n",
              "Estimated Total Size (MB): 0.06\n",
              "=========================================================================================="
            ]
          },
          "metadata": {},
          "execution_count": 35
        }
      ],
      "source": [
        "summary(model2, (1, 10, 1024), device='cpu', verbose=0)"
      ]
    },
    {
      "cell_type": "markdown",
      "metadata": {
        "id": "NsjshQ6aGuDM"
      },
      "source": [
        "## 4 Entrenamiento"
      ]
    },
    {
      "cell_type": "markdown",
      "metadata": {
        "id": "3ThlVw7GGuDN"
      },
      "source": [
        "### 4.1 Ciclo de entrenamiento"
      ]
    },
    {
      "cell_type": "code",
      "execution_count": 31,
      "metadata": {
        "colab": {
          "base_uri": "https://localhost:8080/"
        },
        "id": "OBxU-0xrGuDO",
        "outputId": "c0396d07-e7da-4a76-8584-b05cb0b76830"
      },
      "outputs": [
        {
          "output_type": "stream",
          "name": "stdout",
          "text": [
            "Ciclo de entrenamiento del modelo 1 (RNN)\n",
            "E 0 loss=181.59 acc=54.69\n",
            "E 1 loss=184.28 acc=55.62\n",
            "E 2 loss=190.09 acc=54.38\n",
            "E 3 loss=185.91 acc=56.25\n",
            "E 4 loss=185.40 acc=58.12\n",
            "E 5 loss=190.36 acc=55.00\n",
            "E 6 loss=194.06 acc=56.25\n",
            "E 7 loss=191.44 acc=58.12\n",
            "E 8 loss=188.93 acc=57.50\n",
            "E 9 loss=189.54 acc=54.06\n",
            "E10 loss=195.73 acc=57.19\n",
            "E11 loss=201.56 acc=54.69\n",
            "E12 loss=203.78 acc=54.69\n",
            "E13 loss=204.10 acc=53.44\n",
            "E14 loss=204.81 acc=51.25\n",
            "E15 loss=200.33 acc=51.56\n",
            "E16 loss=202.38 acc=55.94\n",
            "E17 loss=202.15 acc=54.06\n",
            "E18 loss=199.45 acc=52.81\n",
            "E19 loss=204.90 acc=53.75\n",
            "E20 loss=205.12 acc=55.94\n",
            "E21 loss=204.47 acc=55.94\n",
            "E22 loss=206.00 acc=55.00\n",
            "E23 loss=207.99 acc=53.44\n",
            "E24 loss=206.29 acc=56.56\n",
            "E25 loss=207.81 acc=55.00\n",
            "E26 loss=210.17 acc=54.69\n",
            "E27 loss=211.64 acc=53.75\n",
            "E28 loss=210.69 acc=55.62\n",
            "E29 loss=210.21 acc=55.31\n",
            "E30 loss=207.37 acc=55.62\n",
            "E31 loss=211.43 acc=54.69\n",
            "E32 loss=211.09 acc=55.31\n",
            "E33 loss=213.53 acc=56.25\n",
            "E34 loss=211.96 acc=55.31\n",
            "E35 loss=215.51 acc=54.06\n",
            "E36 loss=214.53 acc=54.69\n",
            "E37 loss=215.71 acc=55.62\n",
            "E38 loss=213.98 acc=55.00\n",
            "E39 loss=214.49 acc=56.25\n",
            "E40 loss=215.77 acc=55.00\n",
            "E41 loss=215.36 acc=55.31\n",
            "E42 loss=215.81 acc=55.31\n",
            "E43 loss=212.25 acc=56.25\n",
            "E44 loss=218.21 acc=55.62\n",
            "E45 loss=221.29 acc=55.62\n",
            "E46 loss=217.20 acc=56.88\n",
            "E47 loss=218.94 acc=57.19\n",
            "E48 loss=222.19 acc=57.19\n",
            "E49 loss=224.87 acc=55.62\n",
            "Ciclo de entrenamiento del modelo 2 (CNN)\n",
            "E 0 loss=191.93 acc=35.94\n",
            "E 1 loss=190.08 acc=38.75\n",
            "E 2 loss=189.17 acc=36.88\n",
            "E 3 loss=191.48 acc=37.81\n",
            "E 4 loss=186.06 acc=38.44\n",
            "E 5 loss=190.65 acc=35.31\n",
            "E 6 loss=185.26 acc=38.75\n",
            "E 7 loss=184.82 acc=40.94\n",
            "E 8 loss=182.08 acc=40.31\n",
            "E 9 loss=184.20 acc=38.75\n",
            "E10 loss=182.59 acc=38.12\n",
            "E11 loss=183.60 acc=41.25\n",
            "E12 loss=186.29 acc=40.00\n",
            "E13 loss=179.35 acc=40.94\n",
            "E14 loss=180.01 acc=41.25\n",
            "E15 loss=181.11 acc=41.56\n",
            "E16 loss=180.44 acc=39.69\n",
            "E17 loss=177.63 acc=40.31\n",
            "E18 loss=180.48 acc=39.06\n",
            "E19 loss=174.75 acc=42.19\n",
            "E20 loss=174.75 acc=41.56\n",
            "E21 loss=177.89 acc=42.81\n",
            "E22 loss=172.25 acc=43.44\n",
            "E23 loss=176.90 acc=40.00\n",
            "E24 loss=174.82 acc=42.50\n",
            "E25 loss=176.02 acc=42.19\n",
            "E26 loss=174.07 acc=42.19\n",
            "E27 loss=172.41 acc=43.44\n",
            "E28 loss=172.35 acc=44.06\n",
            "E29 loss=173.29 acc=42.50\n",
            "E30 loss=170.16 acc=45.31\n",
            "E31 loss=176.88 acc=41.56\n",
            "E32 loss=174.05 acc=42.19\n",
            "E33 loss=169.98 acc=43.44\n",
            "E34 loss=174.27 acc=40.62\n",
            "E35 loss=169.00 acc=45.31\n",
            "E36 loss=168.67 acc=45.00\n",
            "E37 loss=171.53 acc=42.50\n",
            "E38 loss=167.66 acc=45.62\n",
            "E39 loss=171.60 acc=40.31\n",
            "E40 loss=169.05 acc=42.19\n",
            "E41 loss=171.70 acc=43.75\n",
            "E42 loss=171.21 acc=44.69\n",
            "E43 loss=173.26 acc=43.75\n",
            "E44 loss=169.60 acc=44.06\n",
            "E45 loss=168.19 acc=43.44\n",
            "E46 loss=174.62 acc=43.75\n",
            "E47 loss=170.96 acc=43.75\n",
            "E48 loss=167.51 acc=42.50\n",
            "E49 loss=170.50 acc=44.38\n"
          ]
        }
      ],
      "source": [
        "# optimizador\n",
        "opt1 = optim.Adam(model1.parameters(), lr=1e-3)\n",
        "opt2 = optim.Adam(model2.parameters(), lr=1e-3)\n",
        "\n",
        "loss_m1 = []\n",
        "loss_m2 = []\n",
        "acc_m1 = []\n",
        "acc_m2 = []\n",
        "\n",
        "EPOCHS = 50\n",
        "\n",
        "# ciclo de entrenamiento del primer modelo\n",
        "model = model1\n",
        "opt =  opt1\n",
        "print(\"Ciclo de entrenamiento del modelo 1 (RNN)\")\n",
        "for epoch in range(EPOCHS):\n",
        "\n",
        "    # modelo en modo de entrenamiento\n",
        "    model.train()\n",
        "    \n",
        "    # entrenamiento de una época\n",
        "    for x, y_true in trn_dl:\n",
        "        # hacemos inferencia para obtener los logits\n",
        "        y_lgts = model(x)\n",
        "        # calculamos la pérdida\n",
        "        loss = F.cross_entropy(y_lgts, y_true)\n",
        "        # vaciamos los gradientes\n",
        "        opt.zero_grad()\n",
        "        # retropropagamos\n",
        "        loss.backward()\n",
        "        # actulizamos parámetros\n",
        "        opt.step()\n",
        "\n",
        "    # desactivamos temporalmente la gráfica de cómputo\n",
        "    with torch.no_grad():\n",
        "\n",
        "        # modelo en modo de evaluación\n",
        "        model.eval()\n",
        "        \n",
        "        losses, accs = [], []\n",
        "        # validación de la época\n",
        "        for x, y_true in tst_dl:\n",
        "            # hacemos inferencia para obtener los logits\n",
        "            y_lgts = model(x)\n",
        "            # calculamos las probabilidades\n",
        "            y_prob = F.softmax(y_lgts, 1)\n",
        "            # obtenemos la clase predicha\n",
        "            y_pred = torch.argmax(y_prob, 1)\n",
        "            \n",
        "            # calculamos la pérdida\n",
        "            loss = F.cross_entropy(y_lgts, y_true)\n",
        "            # calculamos la exactitud\n",
        "            acc = (y_true == y_pred).type(torch.float32).mean()\n",
        "\n",
        "            # guardamos históricos\n",
        "            losses.append(loss.item() * 100)\n",
        "            accs.append(acc.item() * 100)\n",
        "\n",
        "        # imprimimos métricas\n",
        "        loss = np.mean(losses)\n",
        "        acc = np.mean(accs)\n",
        "        loss_m1.append(loss)\n",
        "        acc_m1.append(acc)\n",
        "        print(f'E{epoch:2} loss={loss:6.2f} acc={acc:.2f}')\n",
        "\n",
        "# ciclo de entrenamiento del segundo modelo\n",
        "model = model2\n",
        "opt =  opt2\n",
        "print(\"Ciclo de entrenamiento del modelo 2 (CNN)\")\n",
        "for epoch in range(EPOCHS):\n",
        "\n",
        "    # modelo en modo de entrenamiento\n",
        "    model.train()\n",
        "    \n",
        "    # entrenamiento de una época\n",
        "    for x, y_true in trn_dl:\n",
        "        # hacemos inferencia para obtener los logits\n",
        "        y_lgts = model(x)\n",
        "        # calculamos la pérdida\n",
        "        loss = F.cross_entropy(y_lgts, y_true)\n",
        "        # vaciamos los gradientes\n",
        "        opt.zero_grad()\n",
        "        # retropropagamos\n",
        "        loss.backward()\n",
        "        # actulizamos parámetros\n",
        "        opt.step()\n",
        "\n",
        "    # desactivamos temporalmente la gráfica de cómputo\n",
        "    with torch.no_grad():\n",
        "\n",
        "        # modelo en modo de evaluación\n",
        "        model.eval()\n",
        "        \n",
        "        losses, accs = [], []\n",
        "        # validación de la época\n",
        "        for x, y_true in tst_dl:\n",
        "            # hacemos inferencia para obtener los logits\n",
        "            y_lgts = model(x)\n",
        "            # calculamos las probabilidades\n",
        "            y_prob = F.softmax(y_lgts, 1)\n",
        "            # obtenemos la clase predicha\n",
        "            y_pred = torch.argmax(y_prob, 1)\n",
        "            \n",
        "            # calculamos la pérdida\n",
        "            loss = F.cross_entropy(y_lgts, y_true)\n",
        "            # calculamos la exactitud\n",
        "            acc = (y_true == y_pred).type(torch.float32).mean()\n",
        "\n",
        "            # guardamos históricos\n",
        "            losses.append(loss.item() * 100)\n",
        "            accs.append(acc.item() * 100)\n",
        "\n",
        "        # imprimimos métricas\n",
        "        loss = np.mean(losses)\n",
        "        acc = np.mean(accs)\n",
        "        loss_m2.append(loss)\n",
        "        acc_m2.append(acc)\n",
        "        print(f'E{epoch:2} loss={loss:6.2f} acc={acc:.2f}')"
      ]
    },
    {
      "cell_type": "markdown",
      "metadata": {
        "id": "mAHpOsYTGuDP"
      },
      "source": [
        "## 4.2 Gráficas de pérdida y precisión\n",
        "\n"
      ]
    },
    {
      "cell_type": "code",
      "source": [
        "plt.plot(loss_m1, color='red')\n",
        "plt.xlabel('época')\n",
        "plt.title(\"PERDIDA - RNN (Rojo) vs. CNN (Azul)\")\n",
        "plt.ylabel('pérdida')\n",
        "plt.plot(loss_m2, color='blue')\n",
        "plt.show()\n",
        "\n",
        "plt.clf()\n",
        "plt.plot(acc_m1, color='red')\n",
        "plt.xlabel('época')\n",
        "plt.title(\"PRECISIÓN - RNN (Rojo) vs. CNN (Azul)\")\n",
        "plt.ylabel('accuracy')\n",
        "#plt.show()\n",
        "\n",
        "#plt.close()\n",
        "plt.plot(acc_m2, color='blue')\n",
        "plt.show()"
      ],
      "metadata": {
        "colab": {
          "base_uri": "https://localhost:8080/",
          "height": 577
        },
        "id": "bGwoWRXaHM6v",
        "outputId": "10025897-31c3-4505-e9aa-c5d10d6e8886"
      },
      "execution_count": 33,
      "outputs": [
        {
          "output_type": "display_data",
          "data": {
            "text/plain": [
              "<Figure size 432x288 with 1 Axes>"
            ],
            "image/png": "[encoded data removed]"
          },
          "metadata": {
            "needs_background": "light"
          }
        },
        {
          "output_type": "display_data",
          "data": {
            "text/plain": [
              "<Figure size 432x288 with 1 Axes>"
            ],
            "image/png": "[encoded data removed]"
          },
          "metadata": {
            "needs_background": "light"
          }
        }
      ]
    },
    {
      "cell_type": "markdown",
      "source": [
        "## 5. Conclusión\n",
        "\n",
        "Se implementaron dos modelos sencillos, el primero una RNN bidireccional con una capa GRU, y el segundo una arquitectura CNN con una capa Conv1d. Ambos se entrenaron para la tarea de reconocimiento de acciones humanas sobre el mismo conjunto de datos UCF11. \n",
        "\n",
        "Las gráficas anteriores comparan los valores de pérdida y precisión de ambos modelos durante 50 épocas de entrenamiento. Vemos que en todo momento el valor de accuracy de la Red Neuronal Recurrente (RNN) es mejor que el de la Convolucional (CNN). Pero esto puede deberse al tamaño de los modelos -- intenté que ambas redes tuvieran un tamaño equivalente pero creo que la GRU terminó ocupando más parámetros que la arquitectura convolucional.\n"
      ],
      "metadata": {
        "id": "JYZZKIo1Kf1Z"
      }
    }
  ],
  "metadata": {
    "kernelspec": {
      "display_name": "Python 3 (ipykernel)",
      "language": "python",
      "name": "python3"
    },
    "language_info": {
      "codemirror_mode": {
        "name": "ipython",
        "version": 3
      },
      "file_extension": ".py",
      "mimetype": "text/x-python",
      "name": "python",
      "nbconvert_exporter": "python",
      "pygments_lexer": "ipython3",
      "version": "3.10.6"
    },
    "colab": {
      "provenance": []
    },
    "widgets": {
      "application/vnd.jupyter.widget-state+json": {
        "dbd81577a0374190b8c1c9933a8de495": {
          "model_module": "@jupyter-widgets/controls",
          "model_name": "HBoxModel",
          "model_module_version": "1.5.0",
          "state": {
            "_dom_classes": [],
            "_model_module": "@jupyter-widgets/controls",
            "_model_module_version": "1.5.0",
            "_model_name": "HBoxModel",
            "_view_count": null,
            "_view_module": "@jupyter-widgets/controls",
            "_view_module_version": "1.5.0",
            "_view_name": "HBoxView",
            "box_style": "",
            "children": [
              "IPY_MODEL_20b3de23854a4f25becc7fccf5efab85",
              "IPY_MODEL_7b2440bbbbf2434fb5145297dbe0fe30",
              "IPY_MODEL_eab7bba2d83648f1b35d6222593ce959"
            ],
            "layout": "IPY_MODEL_2a77af747bde43b98185f54e8d57bbc9"
          }
        },
        "20b3de23854a4f25becc7fccf5efab85": {
          "model_module": "@jupyter-widgets/controls",
          "model_name": "HTMLModel",
          "model_module_version": "1.5.0",
          "state": {
            "_dom_classes": [],
            "_model_module": "@jupyter-widgets/controls",
            "_model_module_version": "1.5.0",
            "_model_name": "HTMLModel",
            "_view_count": null,
            "_view_module": "@jupyter-widgets/controls",
            "_view_module_version": "1.5.0",
            "_view_name": "HTMLView",
            "description": "",
            "description_tooltip": null,
            "layout": "IPY_MODEL_12a724929ab64ff8bb6f891345f67d03",
            "placeholder": "​",
            "style": "IPY_MODEL_bf329ef929a24fddb239cb96a55ad620",
            "value": "100%"
          }
        },
        "7b2440bbbbf2434fb5145297dbe0fe30": {
          "model_module": "@jupyter-widgets/controls",
          "model_name": "FloatProgressModel",
          "model_module_version": "1.5.0",
          "state": {
            "_dom_classes": [],
            "_model_module": "@jupyter-widgets/controls",
            "_model_module_version": "1.5.0",
            "_model_name": "FloatProgressModel",
            "_view_count": null,
            "_view_module": "@jupyter-widgets/controls",
            "_view_module_version": "1.5.0",
            "_view_name": "ProgressView",
            "bar_style": "success",
            "description": "",
            "description_tooltip": null,
            "layout": "IPY_MODEL_c069c645e7ec45cea6e3e8679de68d1a",
            "max": 53436566,
            "min": 0,
            "orientation": "horizontal",
            "style": "IPY_MODEL_942f04a8692c49f398fbf21755963fba",
            "value": 53436566
          }
        },
        "eab7bba2d83648f1b35d6222593ce959": {
          "model_module": "@jupyter-widgets/controls",
          "model_name": "HTMLModel",
          "model_module_version": "1.5.0",
          "state": {
            "_dom_classes": [],
            "_model_module": "@jupyter-widgets/controls",
            "_model_module_version": "1.5.0",
            "_model_name": "HTMLModel",
            "_view_count": null,
            "_view_module": "@jupyter-widgets/controls",
            "_view_module_version": "1.5.0",
            "_view_name": "HTMLView",
            "description": "",
            "description_tooltip": null,
            "layout": "IPY_MODEL_4cca14ab001046fa899493bb786a1d07",
            "placeholder": "​",
            "style": "IPY_MODEL_fde66b02e92248f880d8a49e31adf5f4",
            "value": " 53436566/53436566 [00:10&lt;00:00, 12209242.10it/s]"
          }
        },
        "2a77af747bde43b98185f54e8d57bbc9": {
          "model_module": "@jupyter-widgets/base",
          "model_name": "LayoutModel",
          "model_module_version": "1.2.0",
          "state": {
            "_model_module": "@jupyter-widgets/base",
            "_model_module_version": "1.2.0",
            "_model_name": "LayoutModel",
            "_view_count": null,
            "_view_module": "@jupyter-widgets/base",
            "_view_module_version": "1.2.0",
            "_view_name": "LayoutView",
            "align_content": null,
            "align_items": null,
            "align_self": null,
            "border": null,
            "bottom": null,
            "display": null,
            "flex": null,
            "flex_flow": null,
            "grid_area": null,
            "grid_auto_columns": null,
            "grid_auto_flow": null,
            "grid_auto_rows": null,
            "grid_column": null,
            "grid_gap": null,
            "grid_row": null,
            "grid_template_areas": null,
            "grid_template_columns": null,
            "grid_template_rows": null,
            "height": null,
            "justify_content": null,
            "justify_items": null,
            "left": null,
            "margin": null,
            "max_height": null,
            "max_width": null,
            "min_height": null,
            "min_width": null,
            "object_fit": null,
            "object_position": null,
            "order": null,
            "overflow": null,
            "overflow_x": null,
            "overflow_y": null,
            "padding": null,
            "right": null,
            "top": null,
            "visibility": null,
            "width": null
          }
        },
        "12a724929ab64ff8bb6f891345f67d03": {
          "model_module": "@jupyter-widgets/base",
          "model_name": "LayoutModel",
          "model_module_version": "1.2.0",
          "state": {
            "_model_module": "@jupyter-widgets/base",
            "_model_module_version": "1.2.0",
            "_model_name": "LayoutModel",
            "_view_count": null,
            "_view_module": "@jupyter-widgets/base",
            "_view_module_version": "1.2.0",
            "_view_name": "LayoutView",
            "align_content": null,
            "align_items": null,
            "align_self": null,
            "border": null,
            "bottom": null,
            "display": null,
            "flex": null,
            "flex_flow": null,
            "grid_area": null,
            "grid_auto_columns": null,
            "grid_auto_flow": null,
            "grid_auto_rows": null,
            "grid_column": null,
            "grid_gap": null,
            "grid_row": null,
            "grid_template_areas": null,
            "grid_template_columns": null,
            "grid_template_rows": null,
            "height": null,
            "justify_content": null,
            "justify_items": null,
            "left": null,
            "margin": null,
            "max_height": null,
            "max_width": null,
            "min_height": null,
            "min_width": null,
            "object_fit": null,
            "object_position": null,
            "order": null,
            "overflow": null,
            "overflow_x": null,
            "overflow_y": null,
            "padding": null,
            "right": null,
            "top": null,
            "visibility": null,
            "width": null
          }
        },
        "bf329ef929a24fddb239cb96a55ad620": {
          "model_module": "@jupyter-widgets/controls",
          "model_name": "DescriptionStyleModel",
          "model_module_version": "1.5.0",
          "state": {
            "_model_module": "@jupyter-widgets/controls",
            "_model_module_version": "1.5.0",
            "_model_name": "DescriptionStyleModel",
            "_view_count": null,
            "_view_module": "@jupyter-widgets/base",
            "_view_module_version": "1.2.0",
            "_view_name": "StyleView",
            "description_width": ""
          }
        },
        "c069c645e7ec45cea6e3e8679de68d1a": {
          "model_module": "@jupyter-widgets/base",
          "model_name": "LayoutModel",
          "model_module_version": "1.2.0",
          "state": {
            "_model_module": "@jupyter-widgets/base",
            "_model_module_version": "1.2.0",
            "_model_name": "LayoutModel",
            "_view_count": null,
            "_view_module": "@jupyter-widgets/base",
            "_view_module_version": "1.2.0",
            "_view_name": "LayoutView",
            "align_content": null,
            "align_items": null,
            "align_self": null,
            "border": null,
            "bottom": null,
            "display": null,
            "flex": null,
            "flex_flow": null,
            "grid_area": null,
            "grid_auto_columns": null,
            "grid_auto_flow": null,
            "grid_auto_rows": null,
            "grid_column": null,
            "grid_gap": null,
            "grid_row": null,
            "grid_template_areas": null,
            "grid_template_columns": null,
            "grid_template_rows": null,
            "height": null,
            "justify_content": null,
            "justify_items": null,
            "left": null,
            "margin": null,
            "max_height": null,
            "max_width": null,
            "min_height": null,
            "min_width": null,
            "object_fit": null,
            "object_position": null,
            "order": null,
            "overflow": null,
            "overflow_x": null,
            "overflow_y": null,
            "padding": null,
            "right": null,
            "top": null,
            "visibility": null,
            "width": null
          }
        },
        "942f04a8692c49f398fbf21755963fba": {
          "model_module": "@jupyter-widgets/controls",
          "model_name": "ProgressStyleModel",
          "model_module_version": "1.5.0",
          "state": {
            "_model_module": "@jupyter-widgets/controls",
            "_model_module_version": "1.5.0",
            "_model_name": "ProgressStyleModel",
            "_view_count": null,
            "_view_module": "@jupyter-widgets/base",
            "_view_module_version": "1.2.0",
            "_view_name": "StyleView",
            "bar_color": null,
            "description_width": ""
          }
        },
        "4cca14ab001046fa899493bb786a1d07": {
          "model_module": "@jupyter-widgets/base",
          "model_name": "LayoutModel",
          "model_module_version": "1.2.0",
          "state": {
            "_model_module": "@jupyter-widgets/base",
            "_model_module_version": "1.2.0",
            "_model_name": "LayoutModel",
            "_view_count": null,
            "_view_module": "@jupyter-widgets/base",
            "_view_module_version": "1.2.0",
            "_view_name": "LayoutView",
            "align_content": null,
            "align_items": null,
            "align_self": null,
            "border": null,
            "bottom": null,
            "display": null,
            "flex": null,
            "flex_flow": null,
            "grid_area": null,
            "grid_auto_columns": null,
            "grid_auto_flow": null,
            "grid_auto_rows": null,
            "grid_column": null,
            "grid_gap": null,
            "grid_row": null,
            "grid_template_areas": null,
            "grid_template_columns": null,
            "grid_template_rows": null,
            "height": null,
            "justify_content": null,
            "justify_items": null,
            "left": null,
            "margin": null,
            "max_height": null,
            "max_width": null,
            "min_height": null,
            "min_width": null,
            "object_fit": null,
            "object_position": null,
            "order": null,
            "overflow": null,
            "overflow_x": null,
            "overflow_y": null,
            "padding": null,
            "right": null,
            "top": null,
            "visibility": null,
            "width": null
          }
        },
        "fde66b02e92248f880d8a49e31adf5f4": {
          "model_module": "@jupyter-widgets/controls",
          "model_name": "DescriptionStyleModel",
          "model_module_version": "1.5.0",
          "state": {
            "_model_module": "@jupyter-widgets/controls",
            "_model_module_version": "1.5.0",
            "_model_name": "DescriptionStyleModel",
            "_view_count": null,
            "_view_module": "@jupyter-widgets/base",
            "_view_module_version": "1.2.0",
            "_view_name": "StyleView",
            "description_width": ""
          }
        }
      }
    }
  },
  "nbformat": 4,
  "nbformat_minor": 0
}