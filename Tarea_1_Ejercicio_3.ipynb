{
  "cells": [
    {
      "cell_type": "markdown",
      "metadata": {
        "id": "view-in-github",
        "colab_type": "text"
      },
      "source": [
        "<a href=\"https://colab.research.google.com/github/stunnedbud/CursoRedesProfundas/blob/main/Tarea_1_Ejercicio_3.ipynb\" target=\"_parent\"><img src=\"https://colab.research.google.com/assets/colab-badge.svg\" alt=\"Open In Colab\"/></a>"
      ]
    },
    {
      "cell_type": "markdown",
      "metadata": {
        "id": "F94L6cbVOHAv"
      },
      "source": [
        "[![Colab](https://colab.research.google.com/assets/colab-badge.svg)](https://colab.research.google.com/github/gibranfp/CursoAprendizajeProfundo/blob/2023-1/notebooks/1h_pytorch_apis.ipynb)\n",
        "[![Kaggle](https://kaggle.com/static/images/open-in-kaggle.svg)](https://www.kaggle.com/notebooks/welcome?src=https://github.com/gibranfp/CursoAprendizajeProfundo/blob/2023-1/notebooks/1h_pytorch_apis.ipynb)\n",
        "[![Gradient](https://assets.paperspace.io/img/gradient-badge.svg)](https://console.paperspace.com/github/gibranfp/CursoAprendizajeProfundo/blob/2023-1/notebooks/1h_pytorch_apis.ipynb)\n",
        "[![SageMaker](https://studiolab.sagemaker.aws/studiolab.svg)](https://studiolab.sagemaker.aws/import/github/gibranfp/CursoAprendizajeProfundo/blob/2023-1/notebooks/1h_pytorch_apis.ipynb)"
      ]
    },
    {
      "cell_type": "markdown",
      "metadata": {
        "id": "FpUxCsKuOHAy"
      },
      "source": [
        "# Tarea 1 Ejercicio 3. Regresión lineal con PyTorch \n",
        "\n",
        "El objetivo de este inciso es entrenar y evaluar un modelo en PyTorch de regresión lineal para el conjunto de datos de calificaciones con dos datos de entrada."
      ]
    },
    {
      "cell_type": "markdown",
      "metadata": {
        "id": "5cKONBEjOHA0"
      },
      "source": [
        "## 1 Preparación\n",
        "\n",
        "### 1.1 Bibliotecas"
      ]
    },
    {
      "cell_type": "code",
      "execution_count": null,
      "metadata": {
        "id": "QXNcIQ5ROHA1"
      },
      "outputs": [],
      "source": [
        "import math\n",
        "# sistema de archivos\n",
        "import os\n",
        "# números aleatorios\n",
        "import random\n",
        "\n",
        "# gráficas\n",
        "import matplotlib.pyplot as plt\n",
        "from mpl_toolkits import mplot3d\n",
        "# arreglos multidimensionales\n",
        "import numpy as np\n",
        "# csv\n",
        "import pandas as pd\n",
        "\n",
        "# redes neuronales\n",
        "import torch\n",
        "import torch.nn as nn\n",
        "import torch.nn.functional as F\n",
        "import torch.optim as optim\n",
        "\n",
        "from torch.utils.data import DataLoader, TensorDataset"
      ]
    },
    {
      "cell_type": "markdown",
      "metadata": {
        "id": "tmvvTLFoOHA4"
      },
      "source": [
        "### 1.2 Hiperparámetros globales\n",
        "\n",
        "Para poder modificar facilmente los hiperparámetros relativos al número de épocas, tamaño de lote y tasa de aprendizaje, declaramos las siguientes variables globales:"
      ]
    },
    {
      "cell_type": "code",
      "execution_count": null,
      "metadata": {
        "id": "WwmJa2elOHA5"
      },
      "outputs": [],
      "source": [
        "# hiperparametros\n",
        "num_epochs = 5\n",
        "batch_size_global = 16\n",
        "learning_rate = 1e-3"
      ]
    },
    {
      "cell_type": "markdown",
      "metadata": {
        "id": "m3u5W_ZfVt79"
      },
      "source": [
        "### 1.3 Otros Auxiliares"
      ]
    },
    {
      "cell_type": "code",
      "execution_count": null,
      "metadata": {
        "id": "Vv_tLXk5Vvo0"
      },
      "outputs": [],
      "source": [
        "# datos\n",
        "URL = 'https://raw.githubusercontent.com/gibranfp/CursoAprendizajeProfundo/2023-1/data/califs/califs.csv'\n",
        "data_dir = '../data'\n",
        "filepath = os.path.join(data_dir, 'califs.csv')\n",
        "\n",
        "def set_seed(seed=0):\n",
        "    \"\"\"Initializes pseudo-random number generators.\"\"\"\n",
        "    random.seed(seed)\n",
        "    np.random.seed(seed)\n",
        "    torch.manual_seed(seed)"
      ]
    },
    {
      "cell_type": "markdown",
      "metadata": {
        "id": "8bNgidprOHA5"
      },
      "source": [
        "## 2 Datos"
      ]
    },
    {
      "cell_type": "markdown",
      "metadata": {
        "id": "uIDarB3DOHA6"
      },
      "source": [
        "Descargamos los datos."
      ]
    },
    {
      "cell_type": "code",
      "execution_count": null,
      "metadata": {
        "id": "O286tD7nOHA7",
        "outputId": "cf54e614-d8e2-48bd-f9ec-b35dd6510810",
        "colab": {
          "base_uri": "https://localhost:8080/"
        }
      },
      "outputs": [
        {
          "output_type": "stream",
          "name": "stdout",
          "text": [
            "--2022-09-27 23:10:18--  https://raw.githubusercontent.com/gibranfp/CursoAprendizajeProfundo/2023-1/data/califs/califs.csv\n",
            "Resolving raw.githubusercontent.com (raw.githubusercontent.com)... 185.199.108.133, 185.199.109.133, 185.199.110.133, ...\n",
            "Connecting to raw.githubusercontent.com (raw.githubusercontent.com)|185.199.108.133|:443... connected.\n",
            "HTTP request sent, awaiting response... 200 OK\n",
            "Length: 666 [text/plain]\n",
            "Saving to: ‘../data/califs.csv’\n",
            "\n",
            "\r../data/califs.csv    0%[                    ]       0  --.-KB/s               \r../data/califs.csv  100%[===================>]     666  --.-KB/s    in 0s      \n",
            "\n",
            "2022-09-27 23:10:18 (25.9 MB/s) - ‘../data/califs.csv’ saved [666/666]\n",
            "\n"
          ]
        }
      ],
      "source": [
        "! mkdir {data_dir}\n",
        "! wget -nc {URL} -O {filepath}"
      ]
    },
    {
      "cell_type": "markdown",
      "metadata": {
        "id": "pBjufh00OHA8"
      },
      "source": [
        "Cargamos los datos."
      ]
    },
    {
      "cell_type": "code",
      "execution_count": null,
      "metadata": {
        "scrolled": true,
        "id": "gG73t8Z1OHA9",
        "outputId": "cdf89589-782a-48e2-a6fa-2991290f676b",
        "colab": {
          "base_uri": "https://localhost:8080/",
          "height": 206
        }
      },
      "outputs": [
        {
          "output_type": "execute_result",
          "data": {
            "text/plain": [
              "   prev  horas  calif\n",
              "0   5.6    8.2    5.1\n",
              "1   6.7    9.3    5.9\n",
              "2   5.1   10.0    5.4\n",
              "3   5.7   10.4    6.5\n",
              "4   7.1   10.4    6.7"
            ],
            "text/html": [
              "\n",
              "  <div id=\"df-91af50d3-0fcb-4602-af7e-e78f3aaadb3b\">\n",
              "    <div class=\"colab-df-container\">\n",
              "      <div>\n",
              "<style scoped>\n",
              "    .dataframe tbody tr th:only-of-type {\n",
              "        vertical-align: middle;\n",
              "    }\n",
              "\n",
              "    .dataframe tbody tr th {\n",
              "        vertical-align: top;\n",
              "    }\n",
              "\n",
              "    .dataframe thead th {\n",
              "        text-align: right;\n",
              "    }\n",
              "</style>\n",
              "<table border=\"1\" class=\"dataframe\">\n",
              "  <thead>\n",
              "    <tr style=\"text-align: right;\">\n",
              "      <th></th>\n",
              "      <th>prev</th>\n",
              "      <th>horas</th>\n",
              "      <th>calif</th>\n",
              "    </tr>\n",
              "  </thead>\n",
              "  <tbody>\n",
              "    <tr>\n",
              "      <th>0</th>\n",
              "      <td>5.6</td>\n",
              "      <td>8.2</td>\n",
              "      <td>5.1</td>\n",
              "    </tr>\n",
              "    <tr>\n",
              "      <th>1</th>\n",
              "      <td>6.7</td>\n",
              "      <td>9.3</td>\n",
              "      <td>5.9</td>\n",
              "    </tr>\n",
              "    <tr>\n",
              "      <th>2</th>\n",
              "      <td>5.1</td>\n",
              "      <td>10.0</td>\n",
              "      <td>5.4</td>\n",
              "    </tr>\n",
              "    <tr>\n",
              "      <th>3</th>\n",
              "      <td>5.7</td>\n",
              "      <td>10.4</td>\n",
              "      <td>6.5</td>\n",
              "    </tr>\n",
              "    <tr>\n",
              "      <th>4</th>\n",
              "      <td>7.1</td>\n",
              "      <td>10.4</td>\n",
              "      <td>6.7</td>\n",
              "    </tr>\n",
              "  </tbody>\n",
              "</table>\n",
              "</div>\n",
              "      <button class=\"colab-df-convert\" onclick=\"convertToInteractive('df-91af50d3-0fcb-4602-af7e-e78f3aaadb3b')\"\n",
              "              title=\"Convert this dataframe to an interactive table.\"\n",
              "              style=\"display:none;\">\n",
              "        \n",
              "  <svg xmlns=\"http://www.w3.org/2000/svg\" height=\"24px\"viewBox=\"0 0 24 24\"\n",
              "       width=\"24px\">\n",
              "    <path d=\"M0 0h24v24H0V0z\" fill=\"none\"/>\n",
              "    <path d=\"M18.56 5.44l.94 2.06.94-2.06 2.06-.94-2.06-.94-.94-2.06-.94 2.06-2.06.94zm-11 1L8.5 8.5l.94-2.06 2.06-.94-2.06-.94L8.5 2.5l-.94 2.06-2.06.94zm10 10l.94 2.06.94-2.06 2.06-.94-2.06-.94-.94-2.06-.94 2.06-2.06.94z\"/><path d=\"M17.41 7.96l-1.37-1.37c-.4-.4-.92-.59-1.43-.59-.52 0-1.04.2-1.43.59L10.3 9.45l-7.72 7.72c-.78.78-.78 2.05 0 2.83L4 21.41c.39.39.9.59 1.41.59.51 0 1.02-.2 1.41-.59l7.78-7.78 2.81-2.81c.8-.78.8-2.07 0-2.86zM5.41 20L4 18.59l7.72-7.72 1.47 1.35L5.41 20z\"/>\n",
              "  </svg>\n",
              "      </button>\n",
              "      \n",
              "  <style>\n",
              "    .colab-df-container {\n",
              "      display:flex;\n",
              "      flex-wrap:wrap;\n",
              "      gap: 12px;\n",
              "    }\n",
              "\n",
              "    .colab-df-convert {\n",
              "      background-color: #E8F0FE;\n",
              "      border: none;\n",
              "      border-radius: 50%;\n",
              "      cursor: pointer;\n",
              "      display: none;\n",
              "      fill: #1967D2;\n",
              "      height: 32px;\n",
              "      padding: 0 0 0 0;\n",
              "      width: 32px;\n",
              "    }\n",
              "\n",
              "    .colab-df-convert:hover {\n",
              "      background-color: #E2EBFA;\n",
              "      box-shadow: 0px 1px 2px rgba(60, 64, 67, 0.3), 0px 1px 3px 1px rgba(60, 64, 67, 0.15);\n",
              "      fill: #174EA6;\n",
              "    }\n",
              "\n",
              "    [theme=dark] .colab-df-convert {\n",
              "      background-color: #3B4455;\n",
              "      fill: #D2E3FC;\n",
              "    }\n",
              "\n",
              "    [theme=dark] .colab-df-convert:hover {\n",
              "      background-color: #434B5C;\n",
              "      box-shadow: 0px 1px 3px 1px rgba(0, 0, 0, 0.15);\n",
              "      filter: drop-shadow(0px 1px 2px rgba(0, 0, 0, 0.3));\n",
              "      fill: #FFFFFF;\n",
              "    }\n",
              "  </style>\n",
              "\n",
              "      <script>\n",
              "        const buttonEl =\n",
              "          document.querySelector('#df-91af50d3-0fcb-4602-af7e-e78f3aaadb3b button.colab-df-convert');\n",
              "        buttonEl.style.display =\n",
              "          google.colab.kernel.accessAllowed ? 'block' : 'none';\n",
              "\n",
              "        async function convertToInteractive(key) {\n",
              "          const element = document.querySelector('#df-91af50d3-0fcb-4602-af7e-e78f3aaadb3b');\n",
              "          const dataTable =\n",
              "            await google.colab.kernel.invokeFunction('convertToInteractive',\n",
              "                                                     [key], {});\n",
              "          if (!dataTable) return;\n",
              "\n",
              "          const docLinkHtml = 'Like what you see? Visit the ' +\n",
              "            '<a target=\"_blank\" href=https://colab.research.google.com/notebooks/data_table.ipynb>data table notebook</a>'\n",
              "            + ' to learn more about interactive tables.';\n",
              "          element.innerHTML = '';\n",
              "          dataTable['output_type'] = 'display_data';\n",
              "          await google.colab.output.renderOutput(dataTable, element);\n",
              "          const docLink = document.createElement('div');\n",
              "          docLink.innerHTML = docLinkHtml;\n",
              "          element.appendChild(docLink);\n",
              "        }\n",
              "      </script>\n",
              "    </div>\n",
              "  </div>\n",
              "  "
            ]
          },
          "metadata": {},
          "execution_count": 5
        }
      ],
      "source": [
        "df = pd.read_csv(filepath)\n",
        "df.head(5)"
      ]
    },
    {
      "cell_type": "markdown",
      "metadata": {
        "id": "mvDpJ2TWOHA-"
      },
      "source": [
        "Podemos graficar los datos en 3 dimensiones para tener una idea más clara de como se encuentran distribuidos:"
      ]
    },
    {
      "cell_type": "code",
      "execution_count": null,
      "metadata": {
        "scrolled": true,
        "id": "stcGXH4WOHA_",
        "outputId": "ab45d024-8bfe-446d-a32d-96f56f3abc8a",
        "colab": {
          "base_uri": "https://localhost:8080/",
          "height": 248
        }
      },
      "outputs": [
        {
          "output_type": "display_data",
          "data": {
            "text/plain": [
              "<Figure size 432x288 with 1 Axes>"
            ],
            "image/png": "[encoded data removed]"
          },
          "metadata": {
            "needs_background": "light"
          }
        }
      ],
      "source": [
        "# se obtienen los atributos de entrada y se agrega una dimensión\n",
        "x1_trn = np.array(df.iloc[:,0], dtype='float32')[..., np.newaxis]\n",
        "x2_trn = np.array(df.iloc[:,1], dtype='float32')[..., np.newaxis]\n",
        "# se obtiene la salda\n",
        "y_trn = np.array(df.iloc[:,-1], dtype='float32')[..., np.newaxis]\n",
        "# graficamos\n",
        "fig = plt.figure()\n",
        "ax = plt.axes(projection ='3d')\n",
        "ax.scatter(x1_trn, x2_trn, y_trn, 'green')\n",
        "\n",
        "#plt.plot(x_trn, y_trn, '.', color='m', markersize=8)\n",
        "ax.set_xlabel('calificacion previa')\n",
        "ax.set_ylabel('horas de estudio')\n",
        "ax.set_zlabel('calificación')\n",
        "plt.show()"
      ]
    },
    {
      "cell_type": "code",
      "execution_count": null,
      "metadata": {
        "id": "GBtvtkxGOHBA",
        "outputId": "a1268222-c890-417c-829c-48e008ad8e19",
        "colab": {
          "base_uri": "https://localhost:8080/"
        }
      },
      "outputs": [
        {
          "output_type": "stream",
          "name": "stdout",
          "text": [
            "torch.Size([50, 2])\n",
            "torch.Size([50, 1])\n"
          ]
        }
      ],
      "source": [
        "x_trn = np.array(df.iloc[:,:2], dtype=\"float32\")\n",
        "y_trn = np.array(df.iloc[:,-1], dtype=\"float32\")[..., np.newaxis]\n",
        "\n",
        "x_trn = torch.tensor(x_trn)\n",
        "y_trn = torch.tensor(y_trn)\n",
        "\n",
        "print(x_trn.shape)\n",
        "print(y_trn.shape)"
      ]
    },
    {
      "cell_type": "markdown",
      "metadata": {
        "id": "m4sCfrc4OHBB"
      },
      "source": [
        "### 2.1 Conjunto de datos\n",
        "\n",
        "Para hacer lotes podemos usar las clase [`TensorDataset`](https://pytorch.org/docs/stable/data.html#torch.utils.data.TensorDataset)."
      ]
    },
    {
      "cell_type": "markdown",
      "metadata": {
        "id": "m62SUrEMOHBC"
      },
      "source": [
        "<img src=\"https://raw.githubusercontent.com/gibranfp/CursoAprendizajeProfundo/29227f0ad9d952a2239a592a80a7990a085f43d7/figs/califs_tuberia.svg\" width=\"1050\"/>"
      ]
    },
    {
      "cell_type": "code",
      "execution_count": null,
      "metadata": {
        "id": "N1woquBiOHBD",
        "outputId": "3b9cafc8-e30e-4dc5-82db-4022b6ab7ace",
        "colab": {
          "base_uri": "https://localhost:8080/"
        }
      },
      "outputs": [
        {
          "output_type": "execute_result",
          "data": {
            "text/plain": [
              "(tensor([5.6000, 8.2000]), tensor([5.1000]))"
            ]
          },
          "metadata": {},
          "execution_count": 8
        }
      ],
      "source": [
        "ds = TensorDataset(x_trn, y_trn)\n",
        "ds[0]"
      ]
    },
    {
      "cell_type": "markdown",
      "metadata": {
        "id": "aACTi1yeOHBD"
      },
      "source": [
        "### 2.2 Cargador de datos\n",
        "\n",
        "\n",
        "Para ver el funcionamiento de la tubería de datos imprimimos la forma de cada lote y su primer elemento."
      ]
    },
    {
      "cell_type": "code",
      "execution_count": null,
      "metadata": {
        "id": "KegGCFZzOHBE",
        "outputId": "46d34cfa-72be-4df0-db7d-b6ce95e19ba4",
        "colab": {
          "base_uri": "https://localhost:8080/"
        }
      },
      "outputs": [
        {
          "output_type": "stream",
          "name": "stdout",
          "text": [
            "x shape=torch.Size([16, 2]) dtype=torch.float32\n",
            "y shape=torch.Size([16, 1]) dtype=torch.float32\n"
          ]
        }
      ],
      "source": [
        "def build_dl(batch_size=16, shuffle=True):\n",
        "    global batch_size_global # siempre se usa el batch size definido globalmente\n",
        "    return DataLoader(ds, batch_size=batch_size_global, shuffle=True)\n",
        "\n",
        "# creamos un DataLoader\n",
        "dl = build_dl()\n",
        "\n",
        "x, y = next(iter(dl))\n",
        "print(f'x shape={x.shape} dtype={x.dtype}')\n",
        "print(f'y shape={y.shape} dtype={y.dtype}')"
      ]
    },
    {
      "cell_type": "code",
      "execution_count": null,
      "metadata": {
        "id": "I5KYFEF-OHBF",
        "outputId": "b311446a-52f6-4e40-dbbc-690edecb5f67",
        "colab": {
          "base_uri": "https://localhost:8080/"
        }
      },
      "outputs": [
        {
          "output_type": "execute_result",
          "data": {
            "text/plain": [
              "50"
            ]
          },
          "metadata": {},
          "execution_count": 10
        }
      ],
      "source": [
        "len(ds)"
      ]
    },
    {
      "cell_type": "markdown",
      "metadata": {
        "id": "ih3ME2z3OHBG"
      },
      "source": [
        "## 3 Ciclo de entrenamiento\n",
        "\n",
        "<img src=\"https://raw.githubusercontent.com/bereml/iap/master/fig/supervisado.svg\" width=\"700\"/>"
      ]
    },
    {
      "cell_type": "code",
      "execution_count": null,
      "metadata": {
        "id": "Yy1N428cOHBG"
      },
      "outputs": [],
      "source": [
        "# optimizador\n",
        "def train(model, dl, epochs=5):\n",
        "    global num_epochs\n",
        "    global learning_rate\n",
        "\n",
        "    opt = optim.SGD(model.parameters(), lr=learning_rate) #lr=1e-3)\n",
        "\n",
        "    # historial de pérdida\n",
        "    loss_hist = []\n",
        "\n",
        "    # ciclo de entrenamiento\n",
        "    for epoch in range(num_epochs):\n",
        "\n",
        "        # historial\n",
        "        loss_hist = []\n",
        "        \n",
        "        # entrenamiento de una época\n",
        "        for x, y_true in dl:\n",
        "            # hacemos inferencia para obtener los logits\n",
        "            y_lgts = model(x)\n",
        "            # calculamos de pérdida\n",
        "            loss = F.mse_loss(y_lgts, y_true)\n",
        "            # vaciamos los gradientes\n",
        "            opt.zero_grad()\n",
        "            # retropropagamos\n",
        "            loss.backward()\n",
        "            # actulizamos parámetros\n",
        "            opt.step()\n",
        "\n",
        "            # guardamos historial de pérdida\n",
        "            loss_hist.append(loss.item() * 100)\n",
        "            \n",
        "        # imprimimos la pérdida de la época\n",
        "        loss = np.mean(loss_hist)\n",
        "        print(f'E{epoch:02} loss=[{loss:6.2f}]')\n",
        "\n",
        "        \n",
        "def train_model(build_model, epochs=5):\n",
        "    set_seed()\n",
        "    dl = build_dl()\n",
        "    model = build_model()\n",
        "    train(model, dl, epochs)"
      ]
    },
    {
      "cell_type": "markdown",
      "metadata": {
        "id": "bHNxZ3M7OHBH"
      },
      "source": [
        "## 4 Definición de la arquitectura\n",
        "\n",
        "Para implementar arquitecturas, PyTorch define dos clases fundamentales.\n",
        "\n",
        "* `nn.Module` define una red neuronal que internamente puede tener otras redes neuronales anidadas (o capas). Tres metodos importantes son:\n",
        "  * `__init__(self, args)` es el inicilizador que define al objeto,\n",
        "  * `fordward(x)` realizar predicción (hacia adelante),\n",
        "  * `parameters(x)` regresa una lista de los parámetros (`nn.Parameter`) de la red y redes anidadas.\n",
        "\n",
        "\n",
        "* `nn.Parameter` envuelve un tensor solo para marcarlo como parámetro y que sea regresado por `nn.Module.parameters(x)`."
      ]
    },
    {
      "cell_type": "markdown",
      "metadata": {
        "id": "N1sglAGSOHBI"
      },
      "source": [
        "### 4.1 Alto nivel "
      ]
    },
    {
      "cell_type": "markdown",
      "metadata": {
        "id": "yWYzoCn9OHBJ"
      },
      "source": [
        "En esta API basta con apilar las capas (del paquete [`torch.nn`](https://pytorch.org/docs/stable/nn.html)) usando la clase [`nn.Sequential`](https://pytorch.org/docs/stable/generated/torch.nn.Sequential.html#torch.nn.Sequential)."
      ]
    },
    {
      "cell_type": "code",
      "execution_count": null,
      "metadata": {
        "id": "bedkWw6SOHBJ",
        "outputId": "ccc36492-f71f-4e59-8bc6-a92ff69bc5f4",
        "colab": {
          "base_uri": "https://localhost:8080/"
        }
      },
      "outputs": [
        {
          "output_type": "execute_result",
          "data": {
            "text/plain": [
              "Sequential(\n",
              "  (0): Linear(in_features=2, out_features=2, bias=True)\n",
              "  (1): ReLU()\n",
              "  (2): Linear(in_features=2, out_features=1, bias=True)\n",
              ")"
            ]
          },
          "metadata": {},
          "execution_count": 12
        }
      ],
      "source": [
        "def build_high():\n",
        "    model = nn.Sequential(\n",
        "        nn.Linear(2, 2),\n",
        "        nn.ReLU(),\n",
        "        nn.Linear(2, 1),\n",
        "    )\n",
        "    return model\n",
        "\n",
        "build_high()"
      ]
    },
    {
      "cell_type": "markdown",
      "metadata": {
        "id": "Lw-J6e8qOHBK"
      },
      "source": [
        "### 4.2 Medio nivel \n",
        "\n",
        "En esta API heredamos de [`nn.Module`](https://pytorch.org/docs/stable/generated/torch.nn.Module.html#torch.nn.Module), creamos las capas en el inicializador e implementamos la inferencia en el método `fordward`. "
      ]
    },
    {
      "cell_type": "code",
      "execution_count": null,
      "metadata": {
        "id": "OQws5M82OHBL",
        "outputId": "99bd9537-a3f5-4d06-f359-430fb628dc6f",
        "colab": {
          "base_uri": "https://localhost:8080/"
        }
      },
      "outputs": [
        {
          "output_type": "execute_result",
          "data": {
            "text/plain": [
              "LinRegMed(\n",
              "  (fc1): Linear(in_features=2, out_features=2, bias=True)\n",
              "  (fc2): Linear(in_features=2, out_features=1, bias=True)\n",
              ")"
            ]
          },
          "metadata": {},
          "execution_count": 13
        }
      ],
      "source": [
        "#se define la clase RegLin que hereda de torch.nn.Module\n",
        "class LinRegMed(nn.Module):\n",
        "\n",
        "    #se define el inicializador\n",
        "    def __init__(self):\n",
        "        # se llama al inicializador de la clase padre\n",
        "        super().__init__()\n",
        "        # importante: se definen las capas como atributos de la clase\n",
        "        self.fc1 = nn.Linear(2, 2)\n",
        "        self.fc2 = nn.Linear(2, 1)\n",
        "\n",
        "    # método para inferencia\n",
        "    def forward(self, x):\n",
        "        x = self.fc1(x)\n",
        "        x = F.relu(x)\n",
        "        x = self.fc2(x)\n",
        "        return x\n",
        "\n",
        "def build_med():\n",
        "    return LinRegMed()\n",
        "\n",
        "build_med()"
      ]
    },
    {
      "cell_type": "markdown",
      "metadata": {
        "id": "neiLn-uiOHBS"
      },
      "source": [
        "## 5 Entrenando modelos"
      ]
    },
    {
      "cell_type": "code",
      "execution_count": null,
      "metadata": {
        "id": "q_zdPmiKOHBS",
        "outputId": "7adc9e57-040f-4e4f-9f8e-db97d125339f",
        "colab": {
          "base_uri": "https://localhost:8080/"
        }
      },
      "outputs": [
        {
          "output_type": "stream",
          "name": "stdout",
          "text": [
            "E00 loss=[5240.13]\n",
            "E01 loss=[2730.91]\n",
            "E02 loss=[622.67]\n",
            "E03 loss=[ 47.03]\n",
            "E04 loss=[ 16.73]\n"
          ]
        }
      ],
      "source": [
        "train_model(build_high)"
      ]
    },
    {
      "cell_type": "code",
      "execution_count": null,
      "metadata": {
        "id": "9Iy7EnZZOHBU",
        "outputId": "f778d00f-f04d-451f-aebe-a28cc59f5919",
        "colab": {
          "base_uri": "https://localhost:8080/"
        }
      },
      "outputs": [
        {
          "output_type": "stream",
          "name": "stdout",
          "text": [
            "E00 loss=[5240.13]\n",
            "E01 loss=[2730.91]\n",
            "E02 loss=[622.67]\n",
            "E03 loss=[ 47.03]\n",
            "E04 loss=[ 16.73]\n"
          ]
        }
      ],
      "source": [
        "train_model(build_med)"
      ]
    },
    {
      "cell_type": "markdown",
      "metadata": {
        "id": "6u1oloXgo9O2"
      },
      "source": [
        "## 6 Prueba de predicción\n",
        "\n",
        "A continuación se evalúan ambos modelos en un solo punto de datos, donde $x_1$ = 3.0 y $x_2$ = 12.0. Extrañamente parece que aquí ocurre un error que no logré solventar: en primera las predicciones del modelo de alto y medio nivel no coinciden, lo cual es incoherente pues se supone que representan el mismo modelo. Más aún, si se vuelven a evaluar los modelos las predicciones son muy diferentes cada vez, lo que es muy confuso pues se supone que el comportamiento de los modelos es determinista. Usar las funciones eval() y torch.no_grad() no corrige el error."
      ]
    },
    {
      "cell_type": "code",
      "source": [
        "test_data_point =torch.tensor([3.0,12.0], dtype=torch.float32)  # corresponde a un alumno que obtuvo 3 de calificación previa y estudio 12 horas\n",
        "\n",
        "# Obtenemos los modelos a partir de sus funciones\n",
        "high = build_high()\n",
        "med = build_med()\n",
        "# Activamos el modo \"eval\" en los modelos\n",
        "high.eval()\n",
        "med.eval()\n",
        "# obtenemos la predicción de cada uno\n",
        "with torch.no_grad():\n",
        "  y1 = high(test_data_point)\n",
        "  y2 = med(test_data_point)\n",
        "  print(y1, y2)\n"
      ],
      "metadata": {
        "id": "qqLAI2EBcW5W",
        "colab": {
          "base_uri": "https://localhost:8080/"
        },
        "outputId": "f0ff2b76-d616-4073-bedd-064eb7218cc5"
      },
      "execution_count": null,
      "outputs": [
        {
          "output_type": "stream",
          "name": "stdout",
          "text": [
            "tensor([0.1062]) tensor([-0.5299])\n"
          ]
        }
      ]
    },
    {
      "cell_type": "markdown",
      "metadata": {
        "id": "MO0VgNv7cG2t"
      },
      "source": [
        "## 7 Pruebas de distintos hiperparámetros\n",
        "\n",
        "Para evaluar el desempeño de la red bajo diferentes condiciones de hiperparámetros, se probaron distintas versiones del modelo variando solo uno de los parámetros a la vez, para ver más claramente su efecto. \n",
        "\n",
        "Para evitar hacer demasiado largo el notebook aquí solo se reportan los resultados de cada prueba, para ejecutar cada una solo se tiene que modificar las variables de la sección 1.2 y ejecutar de nuevo la sección 5.\n",
        "\n",
        "### 7.1 Tamaño de lote\n",
        "\n",
        "Para éstas pruebas se fijó el número de épocas en 5 y la tasa de aprendizaje en 1e-3. Diremos que *bs* es el tamaño de lote o batch size.\n",
        "\n",
        "Me parecieron interesantes los resultados. El desempeño de la red respecto al valor de la pérdida fue el mejor usando *bs* = 16. Los valores cercanos -- 32, 8, y 4 -- no tuvieron un desempeño tan distinto, pero no alcanzaron la mejor pérdida. También noté que los tamaños de lote pequeños tardaban mucho más tiempo en ejecutarse, esto se debe a que al finalizar cada lote se debe ejecutar la retropropagación que es la parte más costosa en tiempo.\n",
        "Pero el desempeño empeora muchísimo con mayores tamaños de lote -- tan solo con *bs* = 64 observamos que la pérdida disminuye a una velocidad mucho menor, y 10 épocas no son remotamente suficientes para encontrar un valor bueno.\n",
        "\n",
        "La optimalidad de distintos tamaños de lote ha sido estudiada en la literatura (por ejemplo https://arxiv.org/abs/1609.04836). En resumen, parece que los modelos con lotes muy grandes resultan en minimizadores \"afilados\" (*sharp*) de las funciones de prueba y entrenamiento, lo que causa que sean malos generalizando. Las gradientes con lotes pequeños oscilan mucho más, lo cual podría considerarse malo porque es ruidoso, pero éste mismo ruido frecuentemente ayuda a escapar mínimos locales, haciendo más eficiente el entrenamiento. Asimismo, hay un efecto de \"diminishing returns\" relativo al tamaño de lote, ya que para m ejemplos se requieren O(m) computaciones pero la incertidumbre en la gradiente se reduce por un factor de O(sqrt(m)) -- es decir conforme incrementa m el beneficio que agrega cada dato nuevo es cada vez menor. \n",
        "\n",
        "A continuación se incluye una tabla comparativa del valor de pérdida durante las primeras 5 épocas para los distintos tamaño de lote probados: <br><br>\n",
        "\n",
        "<table>\n",
        "<tr>\n",
        "<th>Tamaño de lote:</th>\n",
        "<th>bs = 64</th>\n",
        "<th>bs = 32</th>\n",
        "<th>bs = 16</th>\n",
        "<th>bs = 8</th>\n",
        "<th>bs = 4</th>\n",
        "</tr>\n",
        "<tr>\n",
        "<td>Perdida época 1:</td>\n",
        "<td>5581.98</td>\n",
        "<td>5309.43</td>\n",
        "<td>5240.13</td>\n",
        "<td>4298.79</td>\n",
        "<td>2656.51</td>\n",
        "</tr>\n",
        "<tr>\n",
        "<td>Perdida época 2:</td>\n",
        "<td>5165.13</td>\n",
        "<td>4590.27</td>\n",
        "<td>2730.91</td>\n",
        "<td>616.59</td>\n",
        "<td>22.31</td>\n",
        "</tr>\n",
        "<tr>\n",
        "<td>Perdida época 3:</td>\n",
        "<td>4762.71</td>\n",
        "<td>3527.72</td>\n",
        "<td>622.67</td>\n",
        "<td>20.56</td>\n",
        "<td>19.18</td>\n",
        "</tr>\n",
        "<tr>\n",
        "<td>Perdida época 4:</td>\n",
        "<td>4323.59</td>\n",
        "<td>2235.18</td>\n",
        "<td>47.03</td>\n",
        "<td>18.67</td>\n",
        "<td>20.17</td>\n",
        "</tr>\n",
        "<tr>\n",
        "<td>Perdida época 5:</td>\n",
        "<td>3816.91</td>\n",
        "<td>1053.87</td>\n",
        "<td>16.73</td>\n",
        "<td>19.02</td>\n",
        "<td>20.66</td>\n",
        "</tr>\n",
        "\n",
        "</table>\n",
        "\n",
        "### 7.2 Número de épocas\n",
        "\n",
        "Para éstas pruebas se dejó fijo el tamaño de lote = 16 y tasa de aprendizaje = 1e-3, y se incrementó el número de épocas desde 5 hasta 100.\n",
        "\n",
        "Inicialmente parece que el efecto de incrementar el número de épocas es que el valor de la pérdida continua \"mejorando\", decrementando aunque cada vez menos. Sin embargo eventualmente ocurre que las épocas subsecuentes ya no pueden mejorar más allá de cierto punto, y la pérdida empieza a oscilar sin llegar a valer menos que 15 -- esto ocurre tan pronto como la época número 7. \n",
        "\n",
        "Me parece que el motivo de que se estanque la pérdida es que simplemente hay un punto en que el modelo ya no hay más que pueda aprender de los datos, y posteriores iteraciones solo empeoran el modelo ya que empieza a ocurrir un **sobreajuste** -- aunque el modelo continua optimizándose para predecir los datos, se especializa demasiado en aprender ese conjunto particular de datos y pierde **generalidad**.\n",
        "\n",
        "A continuación se muestra como evoluciona la pérdida luego de ejecutar 50 épocas en el modelo de alto nivel (cabe mencionar que tanto el de alto como medio nivel tuvieron exactamente el mismo comportamiento):    <br><br>\n",
        "E00 loss=[5240.13]  \n",
        "E01 loss=[2730.91]  \n",
        "E02 loss=[622.67]  \n",
        "E03 loss=[ 47.03]  \n",
        "E04 loss=[ 16.73]  \n",
        "E05 loss=[ 16.66]  \n",
        "E06 loss=[ 15.56]  \n",
        "E07 loss=[ 21.74]  \n",
        "E08 loss=[ 16.46]  \n",
        "E09 loss=[ 15.69]  \n",
        "E10 loss=[ 16.06]  \n",
        "E11 loss=[ 18.25]  \n",
        "E12 loss=[ 16.12]  \n",
        "E13 loss=[ 20.85]  \n",
        "E14 loss=[ 21.16]  \n",
        "E15 loss=[ 19.91]  \n",
        "E16 loss=[ 27.50]  \n",
        "E17 loss=[ 18.81]  \n",
        "E18 loss=[ 16.63]  \n",
        "E19 loss=[ 21.93]  \n",
        "E20 loss=[ 23.46]  \n",
        "E21 loss=[ 23.87]  \n",
        "E22 loss=[ 24.58]  \n",
        "E23 loss=[ 20.72]  \n",
        "E24 loss=[ 30.29]  \n",
        "E25 loss=[ 18.66]  \n",
        "E26 loss=[ 15.93]  \n",
        "E27 loss=[ 18.93]  \n",
        "E28 loss=[ 19.14]  \n",
        "E29 loss=[ 19.17]  \n",
        "E30 loss=[ 15.16]  \n",
        "E31 loss=[ 25.20]  \n",
        "E32 loss=[ 29.54]  \n",
        "E33 loss=[ 18.12]  \n",
        "E34 loss=[ 19.18]  \n",
        "E35 loss=[ 18.93]  \n",
        "E36 loss=[ 18.15]  \n",
        "E37 loss=[ 16.22]  \n",
        "E38 loss=[ 21.16]  \n",
        "E39 loss=[ 19.85]  \n",
        "E40 loss=[ 20.32]  \n",
        "E41 loss=[ 19.28]  \n",
        "E42 loss=[ 21.27]  \n",
        "E43 loss=[ 27.51]  \n",
        "E44 loss=[ 16.16]  \n",
        "E45 loss=[ 15.93]  \n",
        "E46 loss=[ 20.81]  \n",
        "E47 loss=[ 16.40]  \n",
        "E48 loss=[ 15.84]  \n",
        "E49 loss=[ 23.39]  \n",
        "E50 loss=[ 15.53]   \n",
        "\n",
        "\n",
        "### 7.3 Tasa de aprendizaje\n",
        "\n",
        "Para éstos experimentos se dejaron fijos el número de épocas en 10 y tamaño de lote en 16. Podemos observar que la tasa de aprendizaje óptima está alrededor de lr=1e-3. Si la hacemos más pequeña por un factor de 10 (lr=1e-4) entonces el entrenamiento se vuelve exponencialmente más lento, y en 10 épocas la pérdida no logra ni alcanzar el valor que logró la red con lr=1e-3 en solo 2 épocas. Naturalmente este efecto se vuelve mas pronunciado con valores aún menores, y con una tasa lr=1e-5 la pérdida de hecho empieza a empeorar -- me parece que el tamaño de paso es tan pequeño que la red no está \"aprendiendo\" básicamente nada.\n",
        "\n",
        "Asimismo valores mayores de la tasa como lr=1e-1 resultan ineficientes, pues la mejora en la pérdida ocurre con menor rapidez. Sin embargo al menos siempre mejora la pérdida, lo cual indica que con suficientes épocas probablemente logren una aproximación no tan mala. También es sabido que si la tasa de aprendizaje es demasiado grande el comportamiento de Descenso de Gradiente es caótico, sin embargo en éstas pruebas no probamos valores tan grandes como para ver ese efecto.\n",
        "\n",
        "A continuación se puede como van cambiando los valores de pérdida en cada época, para cada uno de los valores de lr ejecutados:\n",
        "  \n",
        "lr = 1  \n",
        "E00 loss=[5428.77]  \n",
        "E01 loss=[2293.66]  \n",
        "E02 loss=[2534.34]  \n",
        "E03 loss=[2521.76]  \n",
        "E04 loss=[2141.18]  \n",
        "E05 loss=[1966.22]  \n",
        "E06 loss=[2292.30]  \n",
        "E07 loss=[2443.64]  \n",
        "E08 loss=[863.84]  \n",
        "E09 loss=[138.93]  \n",
        "  \n",
        "lr = 1e-1  \n",
        "E00 loss=[1112029362.29]  \n",
        "E01 loss=[62910398.44]  \n",
        "E02 loss=[10554118.16]  \n",
        "E03 loss=[1770969.45]  \n",
        "E04 loss=[297335.57]  \n",
        "E05 loss=[49914.00]  \n",
        "E06 loss=[8440.65]  \n",
        "E07 loss=[1628.83]  \n",
        "E08 loss=[321.71]  \n",
        "E09 loss=[123.77]  \n",
        "  \n",
        "lr = 1e-2  \n",
        "E00 loss=[5653.80]  \n",
        "E01 loss=[4808.92]  \n",
        "E02 loss=[4118.94]  \n",
        "E03 loss=[3486.48]  \n",
        "E04 loss=[2991.64]  \n",
        "E05 loss=[2540.47]  \n",
        "E06 loss=[2169.41]   \n",
        "E07 loss=[2058.08]  \n",
        "E08 loss=[1730.82]  \n",
        "E09 loss=[1516.86]  \n",
        "  \n",
        "lr = 1e-3  \n",
        "E00 loss=[5240.13]  \n",
        "E01 loss=[2730.91]  \n",
        "E02 loss=[622.67]  \n",
        "E03 loss=[ 47.03]  \n",
        "E04 loss=[ 16.73]  \n",
        "E05 loss=[ 16.66]  \n",
        "E06 loss=[ 15.56]  \n",
        "E07 loss=[ 21.74]  \n",
        "E08 loss=[ 16.46]  \n",
        "E09 loss=[ 15.69]  \n",
        "  \n",
        "lr = 1e-4  \n",
        "E00 loss=[5864.29]  \n",
        "E01 loss=[5299.64]  \n",
        "E02 loss=[5152.71]  \n",
        "E03 loss=[4956.94]  \n",
        "E04 loss=[4803.97]  \n",
        "E05 loss=[4616.27]  \n",
        "E06 loss=[4418.95]  \n",
        "E07 loss=[4487.38]  \n",
        "E08 loss=[4217.44]  \n",
        "E09 loss=[4011.51]  \n",
        "   \n",
        "lr = 1e-5  \n",
        "E00 loss=[5928.01]  \n",
        "E01 loss=[5512.64]  \n",
        "E02 loss=[5510.84]  \n",
        "E03 loss=[5461.36]  \n",
        "E04 loss=[5464.80]  \n",
        "E05 loss=[5427.28]  \n",
        "E06 loss=[5390.24]  \n",
        "E07 loss=[5717.70]  \n",
        "E08 loss=[5649.67]  \n",
        "E09 loss=[5696.67]  \n",
        "\n"
      ]
    }
  ],
  "metadata": {
    "kernelspec": {
      "display_name": "Python 3 (ipykernel)",
      "language": "python",
      "name": "python3"
    },
    "language_info": {
      "codemirror_mode": {
        "name": "ipython",
        "version": 3
      },
      "file_extension": ".py",
      "mimetype": "text/x-python",
      "name": "python",
      "nbconvert_exporter": "python",
      "pygments_lexer": "ipython3",
      "version": "3.10.6"
    },
    "colab": {
      "provenance": [],
      "include_colab_link": true
    }
  },
  "nbformat": 4,
  "nbformat_minor": 0
}