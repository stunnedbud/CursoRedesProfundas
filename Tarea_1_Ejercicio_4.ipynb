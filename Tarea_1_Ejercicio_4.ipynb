{
  "cells": [
    {
      "cell_type": "markdown",
      "metadata": {
        "id": "view-in-github",
        "colab_type": "text"
      },
      "source": [
        "<a href=\"https://colab.research.google.com/github/stunnedbud/CursoRedesProfundas/blob/main/Tarea_1_Ejercicio_4.ipynb\" target=\"_parent\"><img src=\"https://colab.research.google.com/assets/colab-badge.svg\" alt=\"Open In Colab\"/></a>"
      ]
    },
    {
      "cell_type": "markdown",
      "metadata": {
        "id": "_sCkICio1qQH"
      },
      "source": [
        "# Tarea 1 Ejercicio 4. Red completamente conectada con PyTorch\n",
        "\n",
        "El objetivo de este ejercicio es implementar una red densa en PyTorch para la clasificación del conjunto de datos FashionMNIST. Este conjunto consiste en 60 mil ejemplos de entrenamiento y 10 mil ejemplos de prueba, donde cada ejemplo es una imagen en escala de grises de tamaño 28 x 28, asociada a una de las siguientes 10 clases:\n",
        "\n",
        "| Label | Description |\n",
        "| --- | --- |\n",
        "| 0 | T-shirt/top |\n",
        "| 1 | Trouser |\n",
        "| 2 | Pullover |\n",
        "| 3 | Dress |\n",
        "| 4 | Coat |\n",
        "| 5 | Sandal |\n",
        "| 6 | Shirt |\n",
        "| 7 | Sneaker |\n",
        "| 8 | Bag |\n",
        "| 9 | Ankle boot |  \n",
        "\n",
        "<br>\n",
        "<img src=\"https://raw.githubusercontent.com/zalandoresearch/fashion-mnist/master/doc/img/fashion-mnist-sprite.png\" width=\"600\"/>  <br>\n",
        "Ejemplos del conjunto FashionMNIST. Imagen tomada de GitHub."
      ]
    },
    {
      "cell_type": "markdown",
      "metadata": {
        "id": "VivrirsZ1qQL"
      },
      "source": [
        "## 1 Preparación"
      ]
    },
    {
      "cell_type": "code",
      "execution_count": 1,
      "metadata": {
        "colab": {
          "base_uri": "https://localhost:8080/"
        },
        "id": "qhvqB3A01qQM",
        "outputId": "01a8a5ae-87ad-4c8d-a1dc-ff63c29a6d6b"
      },
      "outputs": [
        {
          "output_type": "stream",
          "name": "stdout",
          "text": [
            "Looking in indexes: https://pypi.org/simple, https://us-python.pkg.dev/colab-wheels/public/simple/\n",
            "Requirement already satisfied: torchinfo in /usr/local/lib/python3.7/dist-packages (1.7.1)\n"
          ]
        }
      ],
      "source": [
        "# biblioteca para inspeccionar arquitecturas\n",
        "# https://github.com/tyleryep/torchinfo\n",
        "!pip install torchinfo"
      ]
    },
    {
      "cell_type": "markdown",
      "metadata": {
        "id": "QLJJxIwK1qQN"
      },
      "source": [
        "### 1.1 Bibliotecas"
      ]
    },
    {
      "cell_type": "code",
      "execution_count": 2,
      "metadata": {
        "id": "Ny0L2LzogTN-"
      },
      "outputs": [],
      "source": [
        "# funciones aleatorias\n",
        "import random\n",
        "# tomar n elementos de una secuencia\n",
        "from itertools import islice as take\n",
        "\n",
        "# gráficas\n",
        "import matplotlib.pyplot as plt\n",
        "# arreglos multidimensionales\n",
        "import numpy as np\n",
        "# redes neuronales\n",
        "import torch\n",
        "import torch.nn as nn\n",
        "import torch.nn.functional as F\n",
        "import torch.optim as optim\n",
        "import torchvision.transforms as T\n",
        "# procesamiento de imágenes\n",
        "from skimage import io\n",
        "# redes neuronales\n",
        "from torch.utils.data import DataLoader\n",
        "from torchvision.datasets import FashionMNIST\n",
        "# inspección de arquitectura\n",
        "from torchinfo import summary\n",
        "# barras de progreso\n",
        "from tqdm.auto import trange"
      ]
    },
    {
      "cell_type": "markdown",
      "metadata": {
        "id": "59jEgTji1qQP"
      },
      "source": [
        "### 1.2 Auxiliares"
      ]
    },
    {
      "cell_type": "code",
      "execution_count": 3,
      "metadata": {
        "id": "_LGeZqR_1qQQ"
      },
      "outputs": [],
      "source": [
        "# directorio de datos\n",
        "DATA_DIR = '../data'\n",
        "\n",
        "# tamaño del lote\n",
        "BATCH_SIZE = 32\n",
        "# filas y columnas de la rejilla de imágenes\n",
        "ROWS, COLS = 2, 2 # 4, 8\n",
        "\n",
        "\n",
        "def display_grid(xs, titles, rows, cols, figsize=(12, 6)):\n",
        "    \"\"\"Displays examples in a grid.\"\"\"\n",
        "    fig, ax = plt.subplots(rows, cols, figsize=figsize)\n",
        "    i = 0\n",
        "    for r in range(rows):\n",
        "        for c in range(cols):\n",
        "            ax[r, c].imshow(xs[i], cmap='gray')\n",
        "            ax[r, c].set_title(titles[i])\n",
        "            ax[r, c].set_xticklabels([])\n",
        "            ax[r, c].set_yticklabels([])\n",
        "            i += 1\n",
        "    fig.tight_layout()\n",
        "    plt.show()\n",
        "\n",
        "\n",
        "def display_batch(x, titles, rows, cols, figsize=(12, 6)):\n",
        "    \"\"\"Displays a batch of processed examples in a grid.\"\"\"\n",
        "    # denormalizamos [0, 1] => [0, 255]\n",
        "    x *= 255\n",
        "    # rotamos canales (C x H x W) => (H x W x C)\n",
        "    x = x.permute(0, 2, 3, 1)\n",
        "    # convertimos a entero\n",
        "    x = (x.numpy()).astype(np.uint8)\n",
        "    # aplanamos canal\n",
        "    x = x.reshape(*x.shape[:3])\n",
        "    # desplegamos\n",
        "    display_grid(x, titles, rows, cols, figsize)\n",
        "\n",
        "    \n",
        "def set_seed(seed=0):\n",
        "    \"\"\"Initializes pseudo-random number generators.\"\"\"\n",
        "    random.seed(seed)\n",
        "    np.random.seed(seed)\n",
        "    torch.manual_seed(seed)\n",
        "\n",
        "    \n",
        "# reproducibilidad\n",
        "set_seed()"
      ]
    },
    {
      "cell_type": "markdown",
      "metadata": {
        "id": "MjKxreAkoZeT"
      },
      "source": [
        "## 2 Datos"
      ]
    },
    {
      "cell_type": "markdown",
      "metadata": {
        "id": "geElumGE1qQS"
      },
      "source": [
        "### 2.1 Tuberias de datos con PyTorch\n",
        "\n",
        "<img src=\"https://raw.githubusercontent.com/gibranfp/CursoAprendizajeProfundo/f79e17e7aaf27b8c2cbae98c947a33b347ff0e8a/figs/mnist_tuberia.svg\" width=\"1050\"/>\n",
        "&nbsp;\n",
        "Tuberia de datos para MNIST. La arquitectura del modelo para FashionMNIST es idéntica."
      ]
    },
    {
      "cell_type": "markdown",
      "metadata": {
        "id": "eF4r0NX_1qQS"
      },
      "source": [
        "### 2.2 Exploración\n",
        "\n",
        "PyTorch provee la clase FashionMNIST, una implementación de `Dataset` lista para usar del conjunto FashionMNIST."
      ]
    },
    {
      "cell_type": "code",
      "execution_count": 4,
      "metadata": {
        "id": "FRWOJe4m1qQT"
      },
      "outputs": [],
      "source": [
        "# creamos un Dataset\n",
        "ds = FashionMNIST(\n",
        "    # directorio de datos\n",
        "    root=DATA_DIR,\n",
        "    # subconjunto de entrenamiento\n",
        "    train=True,\n",
        "    # convertir la imagen a ndarray\n",
        "    transform=np.array,\n",
        "    # descargar el conjunto\n",
        "    download=True\n",
        ")"
      ]
    },
    {
      "cell_type": "code",
      "execution_count": 5,
      "metadata": {
        "colab": {
          "base_uri": "https://localhost:8080/",
          "height": 458
        },
        "id": "R97raT861qQT",
        "outputId": "706e724b-ebde-41f9-9ac7-e0ff24fc246f"
      },
      "outputs": [
        {
          "output_type": "stream",
          "name": "stdout",
          "text": [
            "images[0] shape=(28, 28) dtype=uint8\n"
          ]
        },
        {
          "output_type": "display_data",
          "data": {
            "text/plain": [
              "<Figure size 864x432 with 4 Axes>"
            ],
            "image/png": "[encoded data removed]"
          },
          "metadata": {
            "needs_background": "light"
          }
        }
      ],
      "source": [
        "# cargamos algunas imágenes\n",
        "images, labels = [], []\n",
        "for i in range(BATCH_SIZE):\n",
        "    x, y = ds[i]\n",
        "    images.append(x)\n",
        "    labels.append(y)\n",
        "\n",
        "# desplegamos\n",
        "print(f'images[0] shape={images[0].shape} dtype={images[0].dtype}')\n",
        "titles = [str(y) for y in labels]\n",
        "display_grid(images, titles, ROWS, COLS)"
      ]
    },
    {
      "cell_type": "markdown",
      "metadata": {
        "id": "9p_BsiITogUA"
      },
      "source": [
        "### 2.3 Cargadores de datos\n",
        "\n",
        "<img src=\"https://raw.githubusercontent.com/gibranfp/CursoAprendizajeProfundo/2077b80363cfac8204826cb48b8ed51a5a41770e/figs/eval_trn_tst.svg\" width=\"470\"/>\n",
        "\n",
        "&nbsp;\n",
        "Entrenamiento con una partición de entrenamiento y prueba."
      ]
    },
    {
      "cell_type": "markdown",
      "metadata": {
        "id": "_8zuvrWA1qQU"
      },
      "source": [
        "#### Entrenamiento"
      ]
    },
    {
      "cell_type": "code",
      "execution_count": 6,
      "metadata": {
        "colab": {
          "base_uri": "https://localhost:8080/",
          "height": 476
        },
        "id": "E1aEVpYtuadH",
        "outputId": "466e3cc5-11d2-4ff3-91d0-f88dc1ba9b9d"
      },
      "outputs": [
        {
          "output_type": "stream",
          "name": "stdout",
          "text": [
            "x shape=torch.Size([32, 1, 28, 28]) dtype=torch.float32\n",
            "y shape=torch.Size([32]) dtype=torch.int64\n"
          ]
        },
        {
          "output_type": "display_data",
          "data": {
            "text/plain": [
              "<Figure size 864x432 with 4 Axes>"
            ],
            "image/png": "[encoded data removed]"
          },
          "metadata": {
            "needs_background": "light"
          }
        }
      ],
      "source": [
        "# transformación que convierte una imagen:\n",
        "#   de numpy.ndarray    (H x W x C) en rango [0, 255]\n",
        "#   a torch.FloatTensor (C x H x W) en rango [0, 1]\n",
        "tsfm = T.ToTensor()\n",
        "\n",
        "# creamos un Dataset\n",
        "trn_ds = FashionMNIST(\n",
        "    # directorio de datos\n",
        "    root=DATA_DIR,\n",
        "    # subconjunto de entrenamiento\n",
        "    train=True,\n",
        "    # transformación\n",
        "    transform=tsfm\n",
        ")\n",
        "\n",
        "# creamos un DataLoader\n",
        "trn_dl = DataLoader(\n",
        "    # conjunto\n",
        "    trn_ds,\n",
        "    # tamaño del lote\n",
        "    batch_size=BATCH_SIZE,\n",
        "    # desordenar\n",
        "    shuffle=True\n",
        ")\n",
        "\n",
        "# desplegamos un lote de imágenes\n",
        "x, y = next(iter(trn_dl))\n",
        "print(f'x shape={x.shape} dtype={x.dtype}')\n",
        "print(f'y shape={y.shape} dtype={y.dtype}')\n",
        "display_batch(x, y.tolist(), ROWS, COLS)"
      ]
    },
    {
      "cell_type": "markdown",
      "metadata": {
        "id": "UG-DfQMY1qQV"
      },
      "source": [
        "#### Prueba"
      ]
    },
    {
      "cell_type": "code",
      "execution_count": 7,
      "metadata": {
        "colab": {
          "base_uri": "https://localhost:8080/",
          "height": 476
        },
        "id": "QXMXXc9DPgqY",
        "outputId": "56278433-fe94-4bc9-9735-96ccb386125a"
      },
      "outputs": [
        {
          "output_type": "stream",
          "name": "stdout",
          "text": [
            "x shape=torch.Size([32, 1, 28, 28]) dtype=torch.float32\n",
            "y shape=torch.Size([32]) dtype=torch.int64\n"
          ]
        },
        {
          "output_type": "display_data",
          "data": {
            "text/plain": [
              "<Figure size 864x432 with 4 Axes>"
            ],
            "image/png": "[encoded data removed]"
          },
          "metadata": {
            "needs_background": "light"
          }
        }
      ],
      "source": [
        "# creamos un Dataset\n",
        "tst_ds = FashionMNIST(\n",
        "    # directorio de datos\n",
        "    root=DATA_DIR, \n",
        "    # queremos el subconjunto de prueba\n",
        "    train=False,\n",
        "    # transformación\n",
        "    transform=tsfm\n",
        ")\n",
        "\n",
        "# creamos un DataLoader\n",
        "tst_dl = DataLoader(\n",
        "    # subconjunto\n",
        "    tst_ds,\n",
        "    # tamaño del lote\n",
        "    batch_size=BATCH_SIZE,\n",
        "    # desordenar\n",
        "    shuffle=True\n",
        ")\n",
        "\n",
        "# desplegamos un lote de imágenes\n",
        "x, y = next(iter(tst_dl))\n",
        "print(f'x shape={x.shape} dtype={x.dtype}')\n",
        "print(f'y shape={y.shape} dtype={y.dtype}')\n",
        "display_batch(x, y.tolist(), ROWS, COLS)"
      ]
    },
    {
      "cell_type": "markdown",
      "metadata": {
        "id": "VXaTPhdF1qQW"
      },
      "source": [
        "## 3 Modelo\n",
        "\n",
        "<img src=\"https://raw.githubusercontent.com/gibranfp/CursoAprendizajeProfundo/2077b80363cfac8204826cb48b8ed51a5a41770e/figs/fc_arch.svg\" width=\"800\"/>\n",
        "&nbsp;\n",
        "Arquitectura de la red completamente conectada."
      ]
    },
    {
      "cell_type": "markdown",
      "metadata": {
        "id": "kfZ3P5FV1qQW"
      },
      "source": [
        "### 3.1 Definición de la arquitectura"
      ]
    },
    {
      "cell_type": "code",
      "execution_count": 8,
      "metadata": {
        "id": "Yx0ktDw01qQW"
      },
      "outputs": [],
      "source": [
        "# definición del modelo\n",
        "class FCN(nn.Module):\n",
        "\n",
        "    # inicializador\n",
        "    def __init__(self):\n",
        "\n",
        "        # inicilización del objeto padre, obligatorio\n",
        "        super().__init__()\n",
        "\n",
        "        # tamaño de las capas\n",
        "        self.I = 1 * 28 * 28\n",
        "        FC1, FC2, FC3, FC4 = 128, 256, 128, 10\n",
        "\n",
        "        # definición de capas\n",
        "        self.cls = nn.Sequential(\n",
        "            # aplanamos la matriz de píxeles a un vector\n",
        "            # [N, 1, 28, 28] => [N, 1x28x28]\n",
        "            nn.Flatten(),\n",
        "            # fc1\n",
        "            # [N, 1x28x28] => [N, 128]\n",
        "            nn.Linear(self.I, FC1),\n",
        "            nn.ReLU(),\n",
        "            # fc2\n",
        "            nn.Linear(FC1, FC2),\n",
        "            nn.ReLU(),\n",
        "            # fc3\n",
        "            nn.Linear(FC2, FC3),\n",
        "            nn.ReLU(),\n",
        "            # fc4\n",
        "            # [N, 128] => [N, 10]\n",
        "            nn.Linear(FC3, FC4)\n",
        "        )\n",
        "\n",
        "    # método para inferencia\n",
        "    def forward(self, x):\n",
        "        # [N, 1x28x28]\n",
        "        x = self.cls(x)\n",
        "        return x"
      ]
    },
    {
      "cell_type": "markdown",
      "metadata": {
        "id": "h72eFsF21qQX"
      },
      "source": [
        "### 3.2 Instancia de la arquitectura"
      ]
    },
    {
      "cell_type": "code",
      "execution_count": 9,
      "metadata": {
        "colab": {
          "base_uri": "https://localhost:8080/"
        },
        "id": "hYQ-PMTu1qQX",
        "outputId": "b79d42b0-3ae9-4e61-f169-cee875adf9df"
      },
      "outputs": [
        {
          "output_type": "stream",
          "name": "stdout",
          "text": [
            "FCN(\n",
            "  (cls): Sequential(\n",
            "    (0): Flatten(start_dim=1, end_dim=-1)\n",
            "    (1): Linear(in_features=784, out_features=128, bias=True)\n",
            "    (2): ReLU()\n",
            "    (3): Linear(in_features=128, out_features=256, bias=True)\n",
            "    (4): ReLU()\n",
            "    (5): Linear(in_features=256, out_features=128, bias=True)\n",
            "    (6): ReLU()\n",
            "    (7): Linear(in_features=128, out_features=10, bias=True)\n",
            "  )\n",
            ")\n"
          ]
        }
      ],
      "source": [
        "model = FCN()\n",
        "print(model)"
      ]
    },
    {
      "cell_type": "code",
      "execution_count": 10,
      "metadata": {
        "colab": {
          "base_uri": "https://localhost:8080/"
        },
        "id": "sKptD-O31qQX",
        "outputId": "f3853424-c7fd-4fc8-d548-6325ca0b8a7f"
      },
      "outputs": [
        {
          "output_type": "stream",
          "name": "stdout",
          "text": [
            "torch.Size([1, 1, 28, 28]) => torch.Size([1, 10])\n"
          ]
        }
      ],
      "source": [
        "# inferencia con datos sintéticos\n",
        "x = torch.zeros(1, 1, 28, 28)\n",
        "y = model(x)\n",
        "print(f'{x.shape} => {y.shape}')"
      ]
    },
    {
      "cell_type": "markdown",
      "metadata": {
        "id": "adVtL6BI1qQY"
      },
      "source": [
        "### 3.3 Inspección de la arquitectura"
      ]
    },
    {
      "cell_type": "code",
      "execution_count": 11,
      "metadata": {
        "colab": {
          "base_uri": "https://localhost:8080/"
        },
        "id": "AQyPwzGA1qQY",
        "outputId": "c4269049-843e-460a-e239-d17dbc0d1795"
      },
      "outputs": [
        {
          "output_type": "execute_result",
          "data": {
            "text/plain": [
              "==========================================================================================\n",
              "Layer (type:depth-idx)                   Input Shape               Output Shape\n",
              "==========================================================================================\n",
              "FCN                                      [1, 28, 28]               [1, 10]\n",
              "├─Sequential: 1-1                        [1, 28, 28]               [1, 10]\n",
              "│    └─Flatten: 2-1                      [1, 28, 28]               [1, 784]\n",
              "│    └─Linear: 2-2                       [1, 784]                  [1, 128]\n",
              "│    └─ReLU: 2-3                         [1, 128]                  [1, 128]\n",
              "│    └─Linear: 2-4                       [1, 128]                  [1, 256]\n",
              "│    └─ReLU: 2-5                         [1, 256]                  [1, 256]\n",
              "│    └─Linear: 2-6                       [1, 256]                  [1, 128]\n",
              "│    └─ReLU: 2-7                         [1, 128]                  [1, 128]\n",
              "│    └─Linear: 2-8                       [1, 128]                  [1, 10]\n",
              "==========================================================================================\n",
              "Total params: 167,690\n",
              "Trainable params: 167,690\n",
              "Non-trainable params: 0\n",
              "Total mult-adds (M): 0.17\n",
              "==========================================================================================\n",
              "Input size (MB): 0.00\n",
              "Forward/backward pass size (MB): 0.00\n",
              "Params size (MB): 0.67\n",
              "Estimated Total Size (MB): 0.68\n",
              "=========================================================================================="
            ]
          },
          "metadata": {},
          "execution_count": 11
        }
      ],
      "source": [
        "summary(model, (1, 28, 28), \n",
        "        col_names=['input_size', 'output_size'],\n",
        "        device='cpu', verbose=0)"
      ]
    },
    {
      "cell_type": "markdown",
      "metadata": {
        "id": "uWAjHMjr1qQY"
      },
      "source": [
        "## 4 Entrenamiento\n",
        "\n",
        "<img src=\"https://raw.githubusercontent.com/gibranfp/CursoAprendizajeProfundo/dbf3441f7d73c5cccada48d9813636e5b083a487/figs/supervisado.svg\" width=\"800\"/>\n",
        "&nbsp;\n",
        "Ciclo de entrenamiento supervisado."
      ]
    },
    {
      "cell_type": "markdown",
      "metadata": {
        "id": "oA8S9s-11qQY"
      },
      "source": [
        "### 4.1 Ciclo de entrenamiento"
      ]
    },
    {
      "cell_type": "code",
      "execution_count": 12,
      "metadata": {
        "id": "xCqwGRD1nz1a"
      },
      "outputs": [],
      "source": [
        "def train_epoch(dl, model, opt):\n",
        "\n",
        "    # por cada lote\n",
        "    for x, y_true in dl:\n",
        "        \n",
        "        # computamos logits\n",
        "        y_lgts = model(x)\n",
        "        \n",
        "        # computamos la pérdida\n",
        "        loss = F.cross_entropy(y_lgts, y_true)\n",
        "        \n",
        "        # vaciamos los gradientes\n",
        "        opt.zero_grad()\n",
        "        \n",
        "        # retropropagamos\n",
        "        loss.backward()\n",
        "        \n",
        "        # actualizamos parámetros\n",
        "        opt.step()\n",
        "\n",
        "\n",
        "def eval_epoch(dl, model, num_batches=None):\n",
        "\n",
        "    # evitamos que se registren las operaciones \n",
        "    # en la gráfica de cómputo\n",
        "    with torch.no_grad():\n",
        "\n",
        "        # historiales\n",
        "        losses, accs = [], []\n",
        "\n",
        "        # validación de la época con num_batches\n",
        "        # si num_batches==None, se usan todos los lotes\n",
        "        for x, y_true in take(dl, num_batches):\n",
        "\n",
        "            # computamos los logits\n",
        "            y_lgts = model(x)\n",
        "\n",
        "            # computamos los puntajes\n",
        "            y_prob = F.softmax(y_lgts, 1)\n",
        "\n",
        "            # computamos la clases\n",
        "            y_pred = torch.argmax(y_prob, 1)\n",
        "\n",
        "            # computamos la pérdida\n",
        "            loss = F.cross_entropy(y_lgts, y_true)\n",
        "\n",
        "            # computamos la exactitud\n",
        "            acc = (y_true == y_pred).type(torch.float32).mean()\n",
        "\n",
        "            # guardamos históricos\n",
        "            losses.append(loss.item())\n",
        "            accs.append(acc.item())\n",
        "\n",
        "        # promediamos\n",
        "        loss = np.mean(losses) * 100\n",
        "        acc = np.mean(accs) * 100\n",
        "\n",
        "        return loss, acc\n",
        "        \n",
        "        \n",
        "def train(model, trn_dl, tst_dl, lr=1e-3, epochs=20,\n",
        "          trn_batches=None, tst_batches=None):\n",
        "\n",
        "    # historiales\n",
        "    loss_hist, acc_hist = [], []\n",
        "    \n",
        "    # optimizador\n",
        "    opt = optim.SGD(model.parameters(), lr=lr)\n",
        "\n",
        "    # ciclo de entrenamiento\n",
        "    for epoch in trange(epochs):\n",
        "\n",
        "        # entrenamos la época\n",
        "        train_epoch(trn_dl, model, opt)\n",
        "\n",
        "        # evaluamos la época en entrenamiento\n",
        "        trn_loss, trn_acc = eval_epoch(trn_dl, model, trn_batches)\n",
        "        # evaluamos la época en prueba\n",
        "        tst_loss, tst_acc = eval_epoch(tst_dl, model, tst_batches)\n",
        "\n",
        "        # guardamos historial\n",
        "        loss_hist.append([trn_loss, tst_loss])\n",
        "        acc_hist.append([trn_acc, tst_acc])\n",
        "\n",
        "        # imprimimos progreso\n",
        "        print(f'E{epoch:02} '\n",
        "              f'loss=[{trn_loss:6.2f},{tst_loss:6.2f}] '\n",
        "              f'acc=[{trn_acc:5.2f},{tst_acc:5.2f}]')\n",
        "\n",
        "    return loss_hist, acc_hist"
      ]
    },
    {
      "cell_type": "markdown",
      "metadata": {
        "id": "e70nq1q71qQZ"
      },
      "source": [
        "Entrenamos un modelo:"
      ]
    },
    {
      "cell_type": "code",
      "execution_count": 13,
      "metadata": {
        "colab": {
          "base_uri": "https://localhost:8080/",
          "height": 396,
          "referenced_widgets": [
            "aad781a29c7246e7bf45d59368ad5cc0",
            "8da1640155ec4fdc9727f562b806f220",
            "91f577e8f19841f1a9a7db69985e19ae",
            "b64736fc9aee4caea0b92204a1dc360c",
            "e98c3cdc53fd428e983352355a3b1353",
            "4e5b2416f7c747f59a0ea00a90333bf3",
            "ef06bbeb88f7473ca6b728ca7723b446",
            "1aec6154bc284df791360d9c7337f81e",
            "a3614a374cff4cc999419a2f47fae13c",
            "79c1ccbfa67049a7996a9037e8beb7c3",
            "8730eb6156a24c0595e6fb73f47b77eb"
          ]
        },
        "id": "hdhxRaRw1qQZ",
        "outputId": "edc574b8-65dc-40d3-8926-9de419be3461"
      },
      "outputs": [
        {
          "output_type": "display_data",
          "data": {
            "text/plain": [
              "  0%|          | 0/20 [00:00<?, ?it/s]"
            ],
            "application/vnd.jupyter.widget-view+json": {
              "version_major": 2,
              "version_minor": 0,
              "model_id": "aad781a29c7246e7bf45d59368ad5cc0"
            }
          },
          "metadata": {}
        },
        {
          "output_type": "stream",
          "name": "stdout",
          "text": [
            "E00 loss=[226.85,226.87] acc=[10.17,10.18]\n",
            "E01 loss=[212.67,212.76] acc=[40.53,39.94]\n",
            "E02 loss=[156.59,157.02] acc=[45.79,44.94]\n",
            "E03 loss=[120.15,120.81] acc=[59.58,58.76]\n",
            "E04 loss=[101.58,102.65] acc=[63.03,62.17]\n",
            "E05 loss=[ 89.71, 91.09] acc=[65.54,64.48]\n",
            "E06 loss=[ 82.39, 83.79] acc=[68.44,67.35]\n",
            "E07 loss=[ 77.59, 79.30] acc=[69.51,68.49]\n",
            "E08 loss=[ 73.73, 75.50] acc=[72.36,71.33]\n",
            "E09 loss=[ 70.83, 72.79] acc=[74.07,73.12]\n",
            "E10 loss=[ 68.25, 70.31] acc=[74.39,73.48]\n",
            "E11 loss=[ 65.99, 68.11] acc=[76.11,74.84]\n",
            "E12 loss=[ 64.02, 66.31] acc=[77.42,76.34]\n",
            "E13 loss=[ 62.09, 64.57] acc=[77.97,76.78]\n",
            "E14 loss=[ 60.30, 62.72] acc=[78.51,77.15]\n",
            "E15 loss=[ 58.81, 61.25] acc=[79.22,77.97]\n",
            "E16 loss=[ 57.34, 59.94] acc=[79.92,78.45]\n",
            "E17 loss=[ 56.56, 59.35] acc=[80.46,78.67]\n",
            "E18 loss=[ 55.51, 58.21] acc=[80.78,79.31]\n",
            "E19 loss=[ 54.32, 57.08] acc=[81.25,79.84]\n"
          ]
        }
      ],
      "source": [
        "# instanciamos un modelo\n",
        "model = FCN()\n",
        "# entrenamos\n",
        "loss_hist, acc_hist = train(model, trn_dl, tst_dl)"
      ]
    },
    {
      "cell_type": "markdown",
      "metadata": {
        "id": "-AXHhavD1qQZ"
      },
      "source": [
        "### 4.2 Gráficas de pérdidas y exactitud"
      ]
    },
    {
      "cell_type": "code",
      "execution_count": 14,
      "metadata": {
        "colab": {
          "base_uri": "https://localhost:8080/",
          "height": 280
        },
        "id": "RjsTZMnT1qQZ",
        "outputId": "51e6fb52-dd5f-4a24-b507-a13421aca83d"
      },
      "outputs": [
        {
          "output_type": "display_data",
          "data": {
            "text/plain": [
              "<Figure size 432x288 with 1 Axes>"
            ],
            "image/png": "[encoded data removed]"
          },
          "metadata": {
            "needs_background": "light"
          }
        }
      ],
      "source": [
        "trn_loss, tst_loss = zip(*loss_hist)\n",
        "plt.plot(trn_loss, 'tab:orange', label='trn loss')\n",
        "plt.plot(tst_loss, 'tab:red', label='tst loss')\n",
        "plt.legend(loc='upper right')\n",
        "plt.xlabel('época')\n",
        "plt.ylabel('pérdida')\n",
        "plt.show()"
      ]
    },
    {
      "cell_type": "code",
      "execution_count": 15,
      "metadata": {
        "colab": {
          "base_uri": "https://localhost:8080/",
          "height": 280
        },
        "id": "v6En92X-1qQa",
        "outputId": "41ac2383-101a-4d8b-b1b6-04a133be9df5"
      },
      "outputs": [
        {
          "output_type": "display_data",
          "data": {
            "text/plain": [
              "<Figure size 432x288 with 1 Axes>"
            ],
            "image/png": "[encoded data removed]"
          },
          "metadata": {
            "needs_background": "light"
          }
        }
      ],
      "source": [
        "trn_acc, tst_acc = zip(*acc_hist)\n",
        "plt.plot(trn_acc, 'tab:green', label='trn acc')\n",
        "plt.plot(tst_acc, 'tab:blue', label='tst acc')\n",
        "plt.legend(loc='lower right')\n",
        "plt.xlabel('época')\n",
        "plt.ylabel('exactitud')\n",
        "plt.show()"
      ]
    },
    {
      "cell_type": "markdown",
      "metadata": {
        "id": "Whldhpbb1qQa"
      },
      "source": [
        "## 5 Evaluación\n",
        "\n",
        "<img src=\"https://raw.githubusercontent.com/gibranfp/CursoAprendizajeProfundo/2077b80363cfac8204826cb48b8ed51a5a41770e/figs/eval_trn_tst.svg\" width=\"470\"/>\n",
        "&nbsp;\n",
        "Entrenamiento con una partición de entrenamiento y prueba."
      ]
    },
    {
      "cell_type": "markdown",
      "metadata": {
        "id": "lgbN7cZ51qQa"
      },
      "source": [
        "### 5.1 Evaluación final"
      ]
    },
    {
      "cell_type": "code",
      "execution_count": 16,
      "metadata": {
        "id": "Y6EJmMr-1qQb",
        "colab": {
          "base_uri": "https://localhost:8080/"
        },
        "outputId": "7bb8d855-529b-4b46-96c6-001d1454b2de"
      },
      "outputs": [
        {
          "output_type": "stream",
          "name": "stdout",
          "text": [
            "loss=[ 54.32, 57.11] acc=[81.25,79.85]\n"
          ]
        }
      ],
      "source": [
        "# evaluamos en entrenamiento\n",
        "trn_loss, trn_acc = eval_epoch(trn_dl, model)\n",
        "# evaluamos en prueba\n",
        "tst_loss, tst_acc = eval_epoch(tst_dl, model)\n",
        "print(f'loss=[{trn_loss:6.2f},{tst_loss:6.2f}] '\n",
        "      f'acc=[{trn_acc:5.2f},{tst_acc:5.2f}]')"
      ]
    },
    {
      "cell_type": "markdown",
      "metadata": {
        "id": "LHGuXzP61qQb"
      },
      "source": [
        "### 5.2 Inferencia"
      ]
    },
    {
      "cell_type": "code",
      "execution_count": 17,
      "metadata": {
        "id": "Q_RW7rmc1qQb",
        "colab": {
          "base_uri": "https://localhost:8080/",
          "height": 441
        },
        "outputId": "65e2e71a-9291-4526-e514-3bebcc7bd22b"
      },
      "outputs": [
        {
          "output_type": "display_data",
          "data": {
            "text/plain": [
              "<Figure size 864x432 with 4 Axes>"
            ],
            "image/png": "[encoded data removed]"
          },
          "metadata": {
            "needs_background": "light"
          }
        }
      ],
      "source": [
        "with torch.no_grad(): \n",
        "    x, y_true = next(iter(tst_dl))\n",
        "    y_lgts = model(x)\n",
        "    y_prob = F.softmax(y_lgts, 1)\n",
        "    y_pred = torch.argmax(y_prob, 1)\n",
        "    titles = [f'V={t} P={p}' for t, p in zip(y_true, y_pred)]\n",
        "    display_batch(x, titles, ROWS, COLS)"
      ]
    },
    {
      "cell_type": "markdown",
      "metadata": {
        "id": "5ZNVV4D21qQc"
      },
      "source": [
        "## 6. Discusión\n",
        "\n",
        "El conjunto FashionMNIST fue propuesto como reemplazo de MNIST, pues los autores consideran que MNIST es muy fácil: incluso los modelos \"básicos\" de redes neuronales artificiales logran desempeños de 97% rápidamente, por lo que argumentan no es útil como benchmark para evaluar el desempeño de los modelos más modernos. Más aún, [parece que basta 1 pixel para diferenciar entre pares de dígitos en MNIST](https://gist.github.com/dgrtwo/aaef94ecc6a60cd50322c0054cc04478). \n",
        "\n",
        "Debido a ésto yo inicialmente esperaba que la misma red usada para clasificar MNIST tuviera un desempeño mucho peor en FashionMNIST, pero afortunadamente no fue el caso. Para poder compararlas directamente, se probó el desempeño del modelo bajo los mismos hiperparámetros y arquitectura que se ocupó para MNIST. En las siguientes figuras podemos ver que en FashionMNIST la curva de pérdida en el conjunto de prueba y entrenamiento es bastante parecida a la obtenida en MNIST. En cuanto a la exactitud sí le fue algo peor en FashionMNIST, llegando a un valor cercano de 73% en el conjunto de prueba mientras que en MNIST llegó a 84%, pero no le fue nada mal considerando el incremento en dificultad comparado con MNIST.\n",
        "\n",
        "  - MNIST:   \n",
        "    <img src=\"https://drive.google.com/uc?id=1GgjpHwlmQ15jrz7IvghW9MB8Ua-YlSNV\"\n",
        " width=\"400\"/>  \n",
        "    <img src=\"https://drive.google.com/uc?id=1ih0vOS_jTENaFZUI9oXBzbeWfQozrF6d\" width=\"400\"/>  \n",
        "        min loss=[ 73.11, 71.36] best accuracy=[83.81,84.33]  \n",
        "\n",
        "  - FashionMNIST:   \n",
        "    <img src=\"https://drive.google.com/uc?id=19LUeNGhOQMswBQPoi99DHTFB_gj8sq2t\"\n",
        " width=\"400\"/>  \n",
        "    <img src=\"https://drive.google.com/uc?id=1dTFzne5F553nDSB6X4bEot10OHZi3GZ6\" width=\"400\"/>  \n",
        "        min loss=[ 80.31, 81.51] best accuracy=[74.12,73.26]  \n",
        "\n",
        "## 7. Variaciones\n",
        "\n",
        "Para ver más claramente el efecto de cambiar cada hiperparámetro o característica de la red, se probaron distintas versiones del modelo cambiando solamente uno de los atributos a la vez.\n",
        "\n",
        "### 7.1 Hiperparámetros\n",
        "- **Tamaño de lote**. Se probaron los siguientes valores: 64, 32, 16, 8, y 4. Se vió un desempeño considerablemente mejor con tamaños de lote muy pequeños, aunque los modelos con tamaño 8 y 4 tardaron bastante más tiempo en entrenarse. Para este conjunto de datos la mejor precisión se logró con tamaño 4, mejorando hasta llegar a 80%. A continuación se muestran las gráficas de pérdida y precisión para cada instancia probada, así como el mejor valor obtenido:\n",
        "\n",
        "  - Tamaño de lote = 64    \n",
        "    <img src=\"https://drive.google.com/uc?id=1kqWkhMLHfMtTwDgxEnMRNt7TY7ktddHo\"\n",
        " width=\"400\"/>  \n",
        "    <img src=\"https://drive.google.com/uc?id=11m-CQYZf0CJ3h_Qql5vGwta9djJiK-sW\" width=\"400\"/>  \n",
        "        min loss=[110.12,111.02] best accuracy=[69.78,68.91]  \n",
        "\n",
        "  - Tamaño de lote = 32  \n",
        "    <img src=\"https://drive.google.com/uc?id=19LUeNGhOQMswBQPoi99DHTFB_gj8sq2t\"\n",
        " width=\"400\"/>  \n",
        "    <img src=\"https://drive.google.com/uc?id=1dTFzne5F553nDSB6X4bEot10OHZi3GZ6\" width=\"400\"/>  \n",
        "        min loss=[ 80.31, 81.51] best accuracy=[74.12,73.26]  \n",
        "\n",
        "  - Tamaño de lote = 16  \n",
        "    <img src=\"https://drive.google.com/uc?id=15QKIMqDGOGLVRpq4ubaFdK186RUde3Mp\"\n",
        " width=\"400\"/>  \n",
        "    <img src=\"https://drive.google.com/uc?id=1ljkbOSZe5XZuKZ-QXgtPPXalcqfguJbs\" width=\"400\"/>  \n",
        "        min loss=[ 63.39, 65.09] best accuracy=[77.69,76.76]  \n",
        "\n",
        "  - Tamaño de lote = 8  \n",
        "    <img src=\"https://drive.google.com/uc?id=1o4UMup4lf6Yi-Efy7MjVmKZAM7i6HvJo\"\n",
        " width=\"400\"/>  \n",
        "    <img src=\"https://drive.google.com/uc?id=1OY_JMfmfM8iUBjhEk9jem_6ZzGzQ4B04\" width=\"400\"/>  \n",
        "        min loss=[ 52.33, 54.67] best accuracy=[81.61,80.49]  \n",
        "\n",
        "  - Tamaño de lote = 4  \n",
        "    <img src=\"https://drive.google.com/uc?id=1tWUb9Luo77_sAYYsY6LcZERPX2CngR1K\"\n",
        " width=\"400\"/>  \n",
        "    <img src=\"https://drive.google.com/uc?id=1BJkkzmwVj1N9jxv0vWYkm9TVA4wv4EUE\" width=\"400\"/>  \n",
        "        min loss=[ 44.98, 48.10] best accuracy=[84.23,82.80]\n",
        "\n",
        "<hr>\n",
        "\n",
        "- **Tasa de aprendizaje**. Se probaron los siguientes valores: 1e-4, 1e-3, 1e-2, y 1e-1. En esta ocasión se obtuvo una mejor precisión con una tasa de aprendizaje más alta, con lr = 1e-1 se obtuvo una precisión de 87% en el conjunto de prueba, sin embargo las curvas de los conjuntos de aprendizaje y prueba se empiezan a separar, lo que puede indicar un sobreajuste.\n",
        "\n",
        "  - Tasa: 1e-4    \n",
        "    <img src=\"https://drive.google.com/uc?id=1lN5P-UkbKx0QsKMuSYrrWvbLZQ8LOJuG\"\n",
        " width=\"400\"/>  \n",
        "    <img src=\"https://drive.google.com/uc?id=1Li2tUarnnNTNP_CKqqWaEuyKqBAe44Dc\" width=\"400\"/>  \n",
        "        min loss=[205.38,205.50] best accuracy=[60.17,59.79]  \n",
        "\n",
        "  - Tasa: 1e-3    \n",
        "    <img src=\"https://drive.google.com/uc?id=1tWUb9Luo77_sAYYsY6LcZERPX2CngR1K\"\n",
        " width=\"400\"/>  \n",
        "    <img src=\"https://drive.google.com/uc?id=1BJkkzmwVj1N9jxv0vWYkm9TVA4wv4EUE\" width=\"400\"/>  \n",
        "        min loss=[ 44.98, 48.10] best accuracy=[84.23,82.80]  \n",
        "\n",
        "  - Tasa: 1e-2    \n",
        "    <img src=\"https://drive.google.com/uc?id=1JMEPFU4btzMVTE9s38SBZYRM4DD-CL7U\"\n",
        " width=\"400\"/>  \n",
        "    <img src=\"https://drive.google.com/uc?id=1ibM4WugujPnsWNfjlcgU8eYQTzyTVJKI\" width=\"400\"/>  \n",
        "        min loss=[ 43.13, 46.46] best accuracy=[84.77,83.46]  \n",
        "\n",
        "  - Tasa: 1e-1     \n",
        "    <img src=\"https://drive.google.com/uc?id=1drEr6dIkp5B-48N7_3Y_AqJC3jRncwkH\"\n",
        " width=\"400\"/>  \n",
        "    <img src=\"https://drive.google.com/uc?id=1K2fBqwdOFDHcDx7h8K7yhlP8kbUYQp7X\" width=\"400\"/>  \n",
        "        min loss=[ 27.90, 35.03] best accuracy=[89.91,87.53]  \n",
        "\n",
        "<hr>\n",
        "\n",
        "- **Número de épocas**. Habiendo identificado los mejores valores (o al menos los mejores de los intentados) para tasa de aprendizaje y tamaño de lote, se probó incrementar el número de épocas de 20 a 50, para ver qué tanto puede mejorar esta versión del modelo. Sin embargo en ésta versión ocurre un muy evidente sobreajuste: las gráficas de los conjuntos de prueba y entrenamiento se separan, y en un punto la de prueba empeora aunque la de entrenamiento sigue mejorando. Aún así, se logró una mejor precisión que todos los modelos anteriores, de 88.67 en el conjunto de prueba. \n",
        "\n",
        "    <img src=\"https://drive.google.com/uc?id=1DrNNrA3cCQ5Zkrn9mg8HfOLYj0Uquf6Q\"\n",
        " width=\"400\"/>  \n",
        "    <img src=\"https://drive.google.com/uc?id=1KBztenT_n_IjY4RG3_yK6ns2uyZRbN-A\" width=\"400\"/>  \n",
        "loss=[ 12.21, 41.94] acc=[95.52,88.67]\n",
        "\n",
        "### 7.2 Funciones de activación\n",
        "\n",
        "- **Sigmoide**. Esta es la función de activación que se ha estado usando hasta ahora. Para comparación, estos son los mejores valores de pérdida y precisión obtenidos con batch_size = 32 y lr = 1e-3:\n",
        "\n",
        "      min loss=[ 80.31, 81.51] best accuracy=[74.12,73.26]  \n",
        "\n",
        "- **ReLU**. Podemos ver que usar una función de activación ReLU (Rectified Linear Unit) sí mejora considerablemente la precisión obtenida:\n",
        "\n",
        "      min loss=[ 50.63, 53.35] best accuracy=[82.87,81.65]  \n",
        "\n",
        "\n",
        "- **Leaky ReLU**. El desempeño de Leaky ReLU es prácticamente idéntico al de ReLU:\n",
        "\n",
        "      min loss=[ 50.64, 53.36] best accuracy=[82.87,81.62]  \n",
        "\n",
        "#### 7.2 Número de capas y neuronas\n",
        "- **Neuronas**. Para ver el efecto de agregar o quitar neuronas, se probaron los valores de 256, 128, y 64 neuronas ocultas en la red con una capa oculta, tamaño de lote de 32 y tasa de aprendizaje 1e-3. No hay cambios significativos resultantes de cambiar este número, incluso duplicar la cantidad de neuronas mejora la precisión en menos de 1%.\n",
        "\n",
        "   - n = 256\n",
        "\n",
        "      min loss=[ 77.03, 78.20] best accuracy=[74.44,73.87]\n",
        "\n",
        "   - n = 128\n",
        "\n",
        "      min loss=[ 80.31, 81.51] best accuracy=[74.12,73.26]  \n",
        "\n",
        "   - n = 64\n",
        "\n",
        "      min loss=[ 84.98, 86.13] best accuracy=[73.20,71.98]  \n",
        "\n",
        "\n",
        "- **Capas**. Finalmente se probó incrementar el número de capas ocultas. Aquí hay que ser cuidadosos con la función de activación escogida, pues incluso con solo 2 capas ocultas el desempeño de la red con activaciones sigmoides es muy malo, menor a 45%. Esto se debe al desvanecimiento de gradiente, por lo que es mejor usar funciones de activación ReLU. Usando ReLU en una red con 3 capas ocultas el desempeño fue aproximadamente 8% mejor que la red de 1 capa con activación sigmoide.\n",
        "\n",
        "  - 2 capas ocultas de 128 neuronas cada una y activación sigmoide:    \n",
        "    <img src=\"https://drive.google.com/uc?id=1DIMId00gnKX1AVLuB0cJ1OlJZJSU3aiM\"\n",
        " width=\"400\"/>   \n",
        "        min loss=[168.61,168.83] best accuracy=[44.74,45.05]  \n",
        "\n",
        "  \n",
        "  - 3 capas ocultas de 128, 256, y 128 neuronas respectivamente y activación ReLU:    \n",
        "    <img src=\"https://drive.google.com/uc?id=1NcpJo2kpnk96KBVVqlgBWpnXcIqAB9Xb\"\n",
        " width=\"400\"/>   \n",
        "        min loss=[ 54.32, 57.11] best accuracy=[81.25,79.85]\n",
        "\n"
      ]
    }
  ],
  "metadata": {
    "colab": {
      "provenance": [],
      "include_colab_link": true
    },
    "kernelspec": {
      "display_name": "Python 3 (ipykernel)",
      "language": "python",
      "name": "python3"
    },
    "language_info": {
      "codemirror_mode": {
        "name": "ipython",
        "version": 3
      },
      "file_extension": ".py",
      "mimetype": "text/x-python",
      "name": "python",
      "nbconvert_exporter": "python",
      "pygments_lexer": "ipython3",
      "version": "3.10.6"
    },
    "widgets": {
      "application/vnd.jupyter.widget-state+json": {
        "aad781a29c7246e7bf45d59368ad5cc0": {
          "model_module": "@jupyter-widgets/controls",
          "model_name": "HBoxModel",
          "model_module_version": "1.5.0",
          "state": {
            "_dom_classes": [],
            "_model_module": "@jupyter-widgets/controls",
            "_model_module_version": "1.5.0",
            "_model_name": "HBoxModel",
            "_view_count": null,
            "_view_module": "@jupyter-widgets/controls",
            "_view_module_version": "1.5.0",
            "_view_name": "HBoxView",
            "box_style": "",
            "children": [
              "IPY_MODEL_8da1640155ec4fdc9727f562b806f220",
              "IPY_MODEL_91f577e8f19841f1a9a7db69985e19ae",
              "IPY_MODEL_b64736fc9aee4caea0b92204a1dc360c"
            ],
            "layout": "IPY_MODEL_e98c3cdc53fd428e983352355a3b1353"
          }
        },
        "8da1640155ec4fdc9727f562b806f220": {
          "model_module": "@jupyter-widgets/controls",
          "model_name": "HTMLModel",
          "model_module_version": "1.5.0",
          "state": {
            "_dom_classes": [],
            "_model_module": "@jupyter-widgets/controls",
            "_model_module_version": "1.5.0",
            "_model_name": "HTMLModel",
            "_view_count": null,
            "_view_module": "@jupyter-widgets/controls",
            "_view_module_version": "1.5.0",
            "_view_name": "HTMLView",
            "description": "",
            "description_tooltip": null,
            "layout": "IPY_MODEL_4e5b2416f7c747f59a0ea00a90333bf3",
            "placeholder": "​",
            "style": "IPY_MODEL_ef06bbeb88f7473ca6b728ca7723b446",
            "value": "100%"
          }
        },
        "91f577e8f19841f1a9a7db69985e19ae": {
          "model_module": "@jupyter-widgets/controls",
          "model_name": "FloatProgressModel",
          "model_module_version": "1.5.0",
          "state": {
            "_dom_classes": [],
            "_model_module": "@jupyter-widgets/controls",
            "_model_module_version": "1.5.0",
            "_model_name": "FloatProgressModel",
            "_view_count": null,
            "_view_module": "@jupyter-widgets/controls",
            "_view_module_version": "1.5.0",
            "_view_name": "ProgressView",
            "bar_style": "success",
            "description": "",
            "description_tooltip": null,
            "layout": "IPY_MODEL_1aec6154bc284df791360d9c7337f81e",
            "max": 20,
            "min": 0,
            "orientation": "horizontal",
            "style": "IPY_MODEL_a3614a374cff4cc999419a2f47fae13c",
            "value": 20
          }
        },
        "b64736fc9aee4caea0b92204a1dc360c": {
          "model_module": "@jupyter-widgets/controls",
          "model_name": "HTMLModel",
          "model_module_version": "1.5.0",
          "state": {
            "_dom_classes": [],
            "_model_module": "@jupyter-widgets/controls",
            "_model_module_version": "1.5.0",
            "_model_name": "HTMLModel",
            "_view_count": null,
            "_view_module": "@jupyter-widgets/controls",
            "_view_module_version": "1.5.0",
            "_view_name": "HTMLView",
            "description": "",
            "description_tooltip": null,
            "layout": "IPY_MODEL_79c1ccbfa67049a7996a9037e8beb7c3",
            "placeholder": "​",
            "style": "IPY_MODEL_8730eb6156a24c0595e6fb73f47b77eb",
            "value": " 20/20 [05:28&lt;00:00, 14.97s/it]"
          }
        },
        "e98c3cdc53fd428e983352355a3b1353": {
          "model_module": "@jupyter-widgets/base",
          "model_name": "LayoutModel",
          "model_module_version": "1.2.0",
          "state": {
            "_model_module": "@jupyter-widgets/base",
            "_model_module_version": "1.2.0",
            "_model_name": "LayoutModel",
            "_view_count": null,
            "_view_module": "@jupyter-widgets/base",
            "_view_module_version": "1.2.0",
            "_view_name": "LayoutView",
            "align_content": null,
            "align_items": null,
            "align_self": null,
            "border": null,
            "bottom": null,
            "display": null,
            "flex": null,
            "flex_flow": null,
            "grid_area": null,
            "grid_auto_columns": null,
            "grid_auto_flow": null,
            "grid_auto_rows": null,
            "grid_column": null,
            "grid_gap": null,
            "grid_row": null,
            "grid_template_areas": null,
            "grid_template_columns": null,
            "grid_template_rows": null,
            "height": null,
            "justify_content": null,
            "justify_items": null,
            "left": null,
            "margin": null,
            "max_height": null,
            "max_width": null,
            "min_height": null,
            "min_width": null,
            "object_fit": null,
            "object_position": null,
            "order": null,
            "overflow": null,
            "overflow_x": null,
            "overflow_y": null,
            "padding": null,
            "right": null,
            "top": null,
            "visibility": null,
            "width": null
          }
        },
        "4e5b2416f7c747f59a0ea00a90333bf3": {
          "model_module": "@jupyter-widgets/base",
          "model_name": "LayoutModel",
          "model_module_version": "1.2.0",
          "state": {
            "_model_module": "@jupyter-widgets/base",
            "_model_module_version": "1.2.0",
            "_model_name": "LayoutModel",
            "_view_count": null,
            "_view_module": "@jupyter-widgets/base",
            "_view_module_version": "1.2.0",
            "_view_name": "LayoutView",
            "align_content": null,
            "align_items": null,
            "align_self": null,
            "border": null,
            "bottom": null,
            "display": null,
            "flex": null,
            "flex_flow": null,
            "grid_area": null,
            "grid_auto_columns": null,
            "grid_auto_flow": null,
            "grid_auto_rows": null,
            "grid_column": null,
            "grid_gap": null,
            "grid_row": null,
            "grid_template_areas": null,
            "grid_template_columns": null,
            "grid_template_rows": null,
            "height": null,
            "justify_content": null,
            "justify_items": null,
            "left": null,
            "margin": null,
            "max_height": null,
            "max_width": null,
            "min_height": null,
            "min_width": null,
            "object_fit": null,
            "object_position": null,
            "order": null,
            "overflow": null,
            "overflow_x": null,
            "overflow_y": null,
            "padding": null,
            "right": null,
            "top": null,
            "visibility": null,
            "width": null
          }
        },
        "ef06bbeb88f7473ca6b728ca7723b446": {
          "model_module": "@jupyter-widgets/controls",
          "model_name": "DescriptionStyleModel",
          "model_module_version": "1.5.0",
          "state": {
            "_model_module": "@jupyter-widgets/controls",
            "_model_module_version": "1.5.0",
            "_model_name": "DescriptionStyleModel",
            "_view_count": null,
            "_view_module": "@jupyter-widgets/base",
            "_view_module_version": "1.2.0",
            "_view_name": "StyleView",
            "description_width": ""
          }
        },
        "1aec6154bc284df791360d9c7337f81e": {
          "model_module": "@jupyter-widgets/base",
          "model_name": "LayoutModel",
          "model_module_version": "1.2.0",
          "state": {
            "_model_module": "@jupyter-widgets/base",
            "_model_module_version": "1.2.0",
            "_model_name": "LayoutModel",
            "_view_count": null,
            "_view_module": "@jupyter-widgets/base",
            "_view_module_version": "1.2.0",
            "_view_name": "LayoutView",
            "align_content": null,
            "align_items": null,
            "align_self": null,
            "border": null,
            "bottom": null,
            "display": null,
            "flex": null,
            "flex_flow": null,
            "grid_area": null,
            "grid_auto_columns": null,
            "grid_auto_flow": null,
            "grid_auto_rows": null,
            "grid_column": null,
            "grid_gap": null,
            "grid_row": null,
            "grid_template_areas": null,
            "grid_template_columns": null,
            "grid_template_rows": null,
            "height": null,
            "justify_content": null,
            "justify_items": null,
            "left": null,
            "margin": null,
            "max_height": null,
            "max_width": null,
            "min_height": null,
            "min_width": null,
            "object_fit": null,
            "object_position": null,
            "order": null,
            "overflow": null,
            "overflow_x": null,
            "overflow_y": null,
            "padding": null,
            "right": null,
            "top": null,
            "visibility": null,
            "width": null
          }
        },
        "a3614a374cff4cc999419a2f47fae13c": {
          "model_module": "@jupyter-widgets/controls",
          "model_name": "ProgressStyleModel",
          "model_module_version": "1.5.0",
          "state": {
            "_model_module": "@jupyter-widgets/controls",
            "_model_module_version": "1.5.0",
            "_model_name": "ProgressStyleModel",
            "_view_count": null,
            "_view_module": "@jupyter-widgets/base",
            "_view_module_version": "1.2.0",
            "_view_name": "StyleView",
            "bar_color": null,
            "description_width": ""
          }
        },
        "79c1ccbfa67049a7996a9037e8beb7c3": {
          "model_module": "@jupyter-widgets/base",
          "model_name": "LayoutModel",
          "model_module_version": "1.2.0",
          "state": {
            "_model_module": "@jupyter-widgets/base",
            "_model_module_version": "1.2.0",
            "_model_name": "LayoutModel",
            "_view_count": null,
            "_view_module": "@jupyter-widgets/base",
            "_view_module_version": "1.2.0",
            "_view_name": "LayoutView",
            "align_content": null,
            "align_items": null,
            "align_self": null,
            "border": null,
            "bottom": null,
            "display": null,
            "flex": null,
            "flex_flow": null,
            "grid_area": null,
            "grid_auto_columns": null,
            "grid_auto_flow": null,
            "grid_auto_rows": null,
            "grid_column": null,
            "grid_gap": null,
            "grid_row": null,
            "grid_template_areas": null,
            "grid_template_columns": null,
            "grid_template_rows": null,
            "height": null,
            "justify_content": null,
            "justify_items": null,
            "left": null,
            "margin": null,
            "max_height": null,
            "max_width": null,
            "min_height": null,
            "min_width": null,
            "object_fit": null,
            "object_position": null,
            "order": null,
            "overflow": null,
            "overflow_x": null,
            "overflow_y": null,
            "padding": null,
            "right": null,
            "top": null,
            "visibility": null,
            "width": null
          }
        },
        "8730eb6156a24c0595e6fb73f47b77eb": {
          "model_module": "@jupyter-widgets/controls",
          "model_name": "DescriptionStyleModel",
          "model_module_version": "1.5.0",
          "state": {
            "_model_module": "@jupyter-widgets/controls",
            "_model_module_version": "1.5.0",
            "_model_name": "DescriptionStyleModel",
            "_view_count": null,
            "_view_module": "@jupyter-widgets/base",
            "_view_module_version": "1.2.0",
            "_view_name": "StyleView",
            "description_width": ""
          }
        }
      }
    }
  },
  "nbformat": 4,
  "nbformat_minor": 0
}